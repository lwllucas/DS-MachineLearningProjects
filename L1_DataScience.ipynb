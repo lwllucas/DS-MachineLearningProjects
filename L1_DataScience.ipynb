{
  "nbformat": 4,
  "nbformat_minor": 0,
  "metadata": {
    "colab": {
      "name": "L1_DataScience.ipynb",
      "provenance": [],
      "collapsed_sections": [],
      "include_colab_link": true
    },
    "kernelspec": {
      "name": "python3",
      "display_name": "Python 3"
    }
  },
  "cells": [
    {
      "cell_type": "markdown",
      "metadata": {
        "id": "view-in-github",
        "colab_type": "text"
      },
      "source": [
        "<a href=\"https://colab.research.google.com/github/lwllucas/DS-MachineLearningProjects/blob/master/L1_DataScience.ipynb\" target=\"_parent\"><img src=\"https://colab.research.google.com/assets/colab-badge.svg\" alt=\"Open In Colab\"/></a>"
      ]
    },
    {
      "cell_type": "markdown",
      "metadata": {
        "id": "0WnhXWiaUMqA",
        "colab_type": "text"
      },
      "source": [
        "# **L1 Data Science**"
      ]
    },
    {
      "cell_type": "markdown",
      "metadata": {
        "id": "ggLGVe7UFFVi",
        "colab_type": "text"
      },
      "source": [
        "# **Google Colab Tutorial**    \n",
        "Colab is a Google’s free cloud service which will let you run your deep learning or machine learning models in cloud.\n",
        "\n",
        "Creating New Colab Notebook\n",
        "Open your Google Drive\n",
        "Create a new notebook via Right click > More > Colaboratory\n",
        "GPU Setting\n",
        "Edit > Notebook settings or Runtime>Change runtime type and select GPU as Hardware accelerator"
      ]
    },
    {
      "cell_type": "markdown",
      "metadata": {
        "id": "3uZLZq9IFTNC",
        "colab_type": "text"
      },
      "source": [
        "**RAM info**\n",
        "\n",
        "!cat /proc/meminfo"
      ]
    },
    {
      "cell_type": "code",
      "metadata": {
        "id": "obN1Vlw9E1hY",
        "colab_type": "code",
        "colab": {
          "base_uri": "https://localhost:8080/",
          "height": 816
        },
        "outputId": "a2c15d8c-56a8-4184-b036-30fec3229fcb"
      },
      "source": [
        "#add code\n",
        "!cat /proc/meminfo"
      ],
      "execution_count": null,
      "outputs": [
        {
          "output_type": "stream",
          "text": [
            "MemTotal:       13333556 kB\n",
            "MemFree:        10705360 kB\n",
            "MemAvailable:   12484752 kB\n",
            "Buffers:           72180 kB\n",
            "Cached:          1866492 kB\n",
            "SwapCached:            0 kB\n",
            "Active:           708716 kB\n",
            "Inactive:        1662288 kB\n",
            "Active(anon):     412456 kB\n",
            "Inactive(anon):      316 kB\n",
            "Active(file):     296260 kB\n",
            "Inactive(file):  1661972 kB\n",
            "Unevictable:           0 kB\n",
            "Mlocked:               0 kB\n",
            "SwapTotal:             0 kB\n",
            "SwapFree:              0 kB\n",
            "Dirty:               356 kB\n",
            "Writeback:             0 kB\n",
            "AnonPages:        432384 kB\n",
            "Mapped:           221380 kB\n",
            "Shmem:               900 kB\n",
            "Slab:             159884 kB\n",
            "SReclaimable:     124100 kB\n",
            "SUnreclaim:        35784 kB\n",
            "KernelStack:        3488 kB\n",
            "PageTables:         5268 kB\n",
            "NFS_Unstable:          0 kB\n",
            "Bounce:                0 kB\n",
            "WritebackTmp:          0 kB\n",
            "CommitLimit:     6666776 kB\n",
            "Committed_AS:    2506112 kB\n",
            "VmallocTotal:   34359738367 kB\n",
            "VmallocUsed:           0 kB\n",
            "VmallocChunk:          0 kB\n",
            "Percpu:              920 kB\n",
            "AnonHugePages:         0 kB\n",
            "ShmemHugePages:        0 kB\n",
            "ShmemPmdMapped:        0 kB\n",
            "HugePages_Total:       0\n",
            "HugePages_Free:        0\n",
            "HugePages_Rsvd:        0\n",
            "HugePages_Surp:        0\n",
            "Hugepagesize:       2048 kB\n",
            "Hugetlb:               0 kB\n",
            "DirectMap4k:       72892 kB\n",
            "DirectMap2M:     6217728 kB\n",
            "DirectMap1G:     9437184 kB\n"
          ],
          "name": "stdout"
        }
      ]
    },
    {
      "cell_type": "markdown",
      "metadata": {
        "id": "6JUPjM77FXhz",
        "colab_type": "text"
      },
      "source": [
        "# **CPU Info**\n",
        "!cat /proc/cpuinfo"
      ]
    },
    {
      "cell_type": "code",
      "metadata": {
        "id": "MmghOlrOFbIN",
        "colab_type": "code",
        "colab": {
          "base_uri": "https://localhost:8080/",
          "height": 955
        },
        "outputId": "94b1cd54-4140-40b1-a8fe-7ac031f565b0"
      },
      "source": [
        "#Add code\n",
        "!cat /proc/cpuinfo"
      ],
      "execution_count": null,
      "outputs": [
        {
          "output_type": "stream",
          "text": [
            "processor\t: 0\n",
            "vendor_id\t: GenuineIntel\n",
            "cpu family\t: 6\n",
            "model\t\t: 79\n",
            "model name\t: Intel(R) Xeon(R) CPU @ 2.20GHz\n",
            "stepping\t: 0\n",
            "microcode\t: 0x1\n",
            "cpu MHz\t\t: 2200.000\n",
            "cache size\t: 56320 KB\n",
            "physical id\t: 0\n",
            "siblings\t: 2\n",
            "core id\t\t: 0\n",
            "cpu cores\t: 1\n",
            "apicid\t\t: 0\n",
            "initial apicid\t: 0\n",
            "fpu\t\t: yes\n",
            "fpu_exception\t: yes\n",
            "cpuid level\t: 13\n",
            "wp\t\t: yes\n",
            "flags\t\t: fpu vme de pse tsc msr pae mce cx8 apic sep mtrr pge mca cmov pat pse36 clflush mmx fxsr sse sse2 ss ht syscall nx pdpe1gb rdtscp lm constant_tsc rep_good nopl xtopology nonstop_tsc cpuid tsc_known_freq pni pclmulqdq ssse3 fma cx16 pcid sse4_1 sse4_2 x2apic movbe popcnt aes xsave avx f16c rdrand hypervisor lahf_lm abm 3dnowprefetch invpcid_single ssbd ibrs ibpb stibp fsgsbase tsc_adjust bmi1 hle avx2 smep bmi2 erms invpcid rtm rdseed adx smap xsaveopt arat md_clear arch_capabilities\n",
            "bugs\t\t: cpu_meltdown spectre_v1 spectre_v2 spec_store_bypass l1tf mds swapgs taa itlb_multihit\n",
            "bogomips\t: 4400.00\n",
            "clflush size\t: 64\n",
            "cache_alignment\t: 64\n",
            "address sizes\t: 46 bits physical, 48 bits virtual\n",
            "power management:\n",
            "\n",
            "processor\t: 1\n",
            "vendor_id\t: GenuineIntel\n",
            "cpu family\t: 6\n",
            "model\t\t: 79\n",
            "model name\t: Intel(R) Xeon(R) CPU @ 2.20GHz\n",
            "stepping\t: 0\n",
            "microcode\t: 0x1\n",
            "cpu MHz\t\t: 2200.000\n",
            "cache size\t: 56320 KB\n",
            "physical id\t: 0\n",
            "siblings\t: 2\n",
            "core id\t\t: 0\n",
            "cpu cores\t: 1\n",
            "apicid\t\t: 1\n",
            "initial apicid\t: 1\n",
            "fpu\t\t: yes\n",
            "fpu_exception\t: yes\n",
            "cpuid level\t: 13\n",
            "wp\t\t: yes\n",
            "flags\t\t: fpu vme de pse tsc msr pae mce cx8 apic sep mtrr pge mca cmov pat pse36 clflush mmx fxsr sse sse2 ss ht syscall nx pdpe1gb rdtscp lm constant_tsc rep_good nopl xtopology nonstop_tsc cpuid tsc_known_freq pni pclmulqdq ssse3 fma cx16 pcid sse4_1 sse4_2 x2apic movbe popcnt aes xsave avx f16c rdrand hypervisor lahf_lm abm 3dnowprefetch invpcid_single ssbd ibrs ibpb stibp fsgsbase tsc_adjust bmi1 hle avx2 smep bmi2 erms invpcid rtm rdseed adx smap xsaveopt arat md_clear arch_capabilities\n",
            "bugs\t\t: cpu_meltdown spectre_v1 spectre_v2 spec_store_bypass l1tf mds swapgs taa itlb_multihit\n",
            "bogomips\t: 4400.00\n",
            "clflush size\t: 64\n",
            "cache_alignment\t: 64\n",
            "address sizes\t: 46 bits physical, 48 bits virtual\n",
            "power management:\n",
            "\n"
          ],
          "name": "stdout"
        }
      ]
    },
    {
      "cell_type": "markdown",
      "metadata": {
        "id": "db4gfn5cFefq",
        "colab_type": "text"
      },
      "source": [
        "# **Install Libraries**   \n",
        "!pip install or !apt-get install\n",
        "\n",
        "!pip3 install tensorflow==1.8     \n",
        "!pip3 install keras     \n",
        "!apt-get install python-numpy python-scipy   "
      ]
    },
    {
      "cell_type": "code",
      "metadata": {
        "id": "1ru1eQDPFi6C",
        "colab_type": "code",
        "colab": {
          "base_uri": "https://localhost:8080/",
          "height": 1000
        },
        "outputId": "cb4567c7-fb9b-4366-b936-0eee411c4d4b"
      },
      "source": [
        "#add code\n",
        "\n",
        "!pip3 install tensorflow==1.8\n",
        "!pip3 install keras\n",
        "!apt-get install python-numpy python-scipy"
      ],
      "execution_count": null,
      "outputs": [
        {
          "output_type": "stream",
          "text": [
            "Collecting tensorflow==1.8\n",
            "\u001b[?25l  Downloading https://files.pythonhosted.org/packages/22/c6/d08f7c549330c2acc1b18b5c1f0f8d9d2af92f54d56861f331f372731671/tensorflow-1.8.0-cp36-cp36m-manylinux1_x86_64.whl (49.1MB)\n",
            "\u001b[K     |████████████████████████████████| 49.1MB 90kB/s \n",
            "\u001b[?25hRequirement already satisfied: wheel>=0.26 in /usr/local/lib/python3.6/dist-packages (from tensorflow==1.8) (0.34.2)\n",
            "Requirement already satisfied: six>=1.10.0 in /usr/local/lib/python3.6/dist-packages (from tensorflow==1.8) (1.12.0)\n",
            "Requirement already satisfied: gast>=0.2.0 in /usr/local/lib/python3.6/dist-packages (from tensorflow==1.8) (0.3.3)\n",
            "Collecting tensorboard<1.9.0,>=1.8.0\n",
            "\u001b[?25l  Downloading https://files.pythonhosted.org/packages/59/a6/0ae6092b7542cfedba6b2a1c9b8dceaf278238c39484f3ba03b03f07803c/tensorboard-1.8.0-py3-none-any.whl (3.1MB)\n",
            "\u001b[K     |████████████████████████████████| 3.1MB 34.6MB/s \n",
            "\u001b[?25hRequirement already satisfied: numpy>=1.13.3 in /usr/local/lib/python3.6/dist-packages (from tensorflow==1.8) (1.18.2)\n",
            "Requirement already satisfied: absl-py>=0.1.6 in /usr/local/lib/python3.6/dist-packages (from tensorflow==1.8) (0.9.0)\n",
            "Requirement already satisfied: grpcio>=1.8.6 in /usr/local/lib/python3.6/dist-packages (from tensorflow==1.8) (1.28.1)\n",
            "Requirement already satisfied: protobuf>=3.4.0 in /usr/local/lib/python3.6/dist-packages (from tensorflow==1.8) (3.10.0)\n",
            "Requirement already satisfied: termcolor>=1.1.0 in /usr/local/lib/python3.6/dist-packages (from tensorflow==1.8) (1.1.0)\n",
            "Requirement already satisfied: astor>=0.6.0 in /usr/local/lib/python3.6/dist-packages (from tensorflow==1.8) (0.8.1)\n",
            "Collecting html5lib==0.9999999\n",
            "\u001b[?25l  Downloading https://files.pythonhosted.org/packages/ae/ae/bcb60402c60932b32dfaf19bb53870b29eda2cd17551ba5639219fb5ebf9/html5lib-0.9999999.tar.gz (889kB)\n",
            "\u001b[K     |████████████████████████████████| 890kB 47.2MB/s \n",
            "\u001b[?25hRequirement already satisfied: markdown>=2.6.8 in /usr/local/lib/python3.6/dist-packages (from tensorboard<1.9.0,>=1.8.0->tensorflow==1.8) (3.2.1)\n",
            "Collecting bleach==1.5.0\n",
            "  Downloading https://files.pythonhosted.org/packages/33/70/86c5fec937ea4964184d4d6c4f0b9551564f821e1c3575907639036d9b90/bleach-1.5.0-py2.py3-none-any.whl\n",
            "Requirement already satisfied: werkzeug>=0.11.10 in /usr/local/lib/python3.6/dist-packages (from tensorboard<1.9.0,>=1.8.0->tensorflow==1.8) (1.0.1)\n",
            "Requirement already satisfied: setuptools in /usr/local/lib/python3.6/dist-packages (from protobuf>=3.4.0->tensorflow==1.8) (46.1.3)\n",
            "Building wheels for collected packages: html5lib\n",
            "  Building wheel for html5lib (setup.py) ... \u001b[?25l\u001b[?25hdone\n",
            "  Created wheel for html5lib: filename=html5lib-0.9999999-cp36-none-any.whl size=107220 sha256=ab11e65ea15c65973ba95c5abc763bf275abbfd83d1627c83cbdf3c8db0448ee\n",
            "  Stored in directory: /root/.cache/pip/wheels/50/ae/f9/d2b189788efcf61d1ee0e36045476735c838898eef1cad6e29\n",
            "Successfully built html5lib\n",
            "Installing collected packages: html5lib, bleach, tensorboard, tensorflow\n",
            "  Found existing installation: html5lib 1.0.1\n",
            "    Uninstalling html5lib-1.0.1:\n",
            "      Successfully uninstalled html5lib-1.0.1\n",
            "  Found existing installation: bleach 3.1.4\n",
            "    Uninstalling bleach-3.1.4:\n",
            "      Successfully uninstalled bleach-3.1.4\n",
            "  Found existing installation: tensorboard 2.2.1\n",
            "    Uninstalling tensorboard-2.2.1:\n",
            "      Successfully uninstalled tensorboard-2.2.1\n",
            "  Found existing installation: tensorflow 2.2.0rc3\n",
            "    Uninstalling tensorflow-2.2.0rc3:\n",
            "      Successfully uninstalled tensorflow-2.2.0rc3\n",
            "Successfully installed bleach-1.5.0 html5lib-0.9999999 tensorboard-1.8.0 tensorflow-1.8.0\n",
            "Requirement already satisfied: keras in /usr/local/lib/python3.6/dist-packages (2.3.1)\n",
            "Requirement already satisfied: keras-applications>=1.0.6 in /usr/local/lib/python3.6/dist-packages (from keras) (1.0.8)\n",
            "Requirement already satisfied: numpy>=1.9.1 in /usr/local/lib/python3.6/dist-packages (from keras) (1.18.2)\n",
            "Requirement already satisfied: pyyaml in /usr/local/lib/python3.6/dist-packages (from keras) (3.13)\n",
            "Requirement already satisfied: h5py in /usr/local/lib/python3.6/dist-packages (from keras) (2.10.0)\n",
            "Requirement already satisfied: keras-preprocessing>=1.0.5 in /usr/local/lib/python3.6/dist-packages (from keras) (1.1.0)\n",
            "Requirement already satisfied: six>=1.9.0 in /usr/local/lib/python3.6/dist-packages (from keras) (1.12.0)\n",
            "Requirement already satisfied: scipy>=0.14 in /usr/local/lib/python3.6/dist-packages (from keras) (1.4.1)\n",
            "Reading package lists... Done\n",
            "Building dependency tree       \n",
            "Reading state information... Done\n",
            "python-numpy is already the newest version (1:1.13.3-2ubuntu1).\n",
            "python-numpy set to manually installed.\n",
            "The following additional packages will be installed:\n",
            "  python-decorator python-olefile python-pil\n",
            "Suggested packages:\n",
            "  python-pil-doc python-pil-dbg python-scipy-doc\n",
            "The following NEW packages will be installed:\n",
            "  python-decorator python-olefile python-pil python-scipy\n",
            "0 upgraded, 4 newly installed, 0 to remove and 25 not upgraded.\n",
            "Need to get 10.1 MB of archives.\n",
            "After this operation, 43.1 MB of additional disk space will be used.\n",
            "Get:1 http://archive.ubuntu.com/ubuntu bionic/main amd64 python-decorator all 4.1.2-1 [9,300 B]\n",
            "Get:2 http://archive.ubuntu.com/ubuntu bionic/main amd64 python-olefile all 0.45.1-1 [33.2 kB]\n",
            "Get:3 http://archive.ubuntu.com/ubuntu bionic-updates/main amd64 python-pil amd64 5.1.0-1ubuntu0.2 [329 kB]\n",
            "Get:4 http://archive.ubuntu.com/ubuntu bionic/universe amd64 python-scipy amd64 0.19.1-2ubuntu1 [9,689 kB]\n",
            "Fetched 10.1 MB in 2s (5,713 kB/s)\n",
            "Selecting previously unselected package python-decorator.\n",
            "(Reading database ... 144568 files and directories currently installed.)\n",
            "Preparing to unpack .../python-decorator_4.1.2-1_all.deb ...\n",
            "Unpacking python-decorator (4.1.2-1) ...\n",
            "Selecting previously unselected package python-olefile.\n",
            "Preparing to unpack .../python-olefile_0.45.1-1_all.deb ...\n",
            "Unpacking python-olefile (0.45.1-1) ...\n",
            "Selecting previously unselected package python-pil:amd64.\n",
            "Preparing to unpack .../python-pil_5.1.0-1ubuntu0.2_amd64.deb ...\n",
            "Unpacking python-pil:amd64 (5.1.0-1ubuntu0.2) ...\n",
            "Selecting previously unselected package python-scipy.\n",
            "Preparing to unpack .../python-scipy_0.19.1-2ubuntu1_amd64.deb ...\n",
            "Unpacking python-scipy (0.19.1-2ubuntu1) ...\n",
            "Setting up python-olefile (0.45.1-1) ...\n",
            "Setting up python-decorator (4.1.2-1) ...\n",
            "Setting up python-pil:amd64 (5.1.0-1ubuntu0.2) ...\n",
            "Setting up python-scipy (0.19.1-2ubuntu1) ...\n"
          ],
          "name": "stdout"
        }
      ]
    },
    {
      "cell_type": "markdown",
      "metadata": {
        "id": "wYGrbACdFxaJ",
        "colab_type": "text"
      },
      "source": [
        "# **Mount your Google Drive**\n",
        "\n",
        "from google.colab import drive    \n",
        "drive.mount('/content/drive/')    \n",
        "datadir=\"/content/drive/My Drive/Data/DS1/\"    "
      ]
    },
    {
      "cell_type": "code",
      "metadata": {
        "id": "LgVoFDn8F596",
        "colab_type": "code",
        "colab": {}
      },
      "source": [
        "#add code\n",
        "from google.colab import drive\n",
        "drive.mount('/content/drive/')\n",
        "datadir=\"/content/drive/My Drive/Data/DS1/\""
      ],
      "execution_count": null,
      "outputs": []
    },
    {
      "cell_type": "markdown",
      "metadata": {
        "id": "DpkNxz87F9yp",
        "colab_type": "text"
      },
      "source": [
        "# **Check your Folder Data**\n",
        "\n",
        "!ls 'drive/My Drive/Data/DS1/'"
      ]
    },
    {
      "cell_type": "code",
      "metadata": {
        "id": "gEqKj4xQGJvc",
        "colab_type": "code",
        "colab": {
          "base_uri": "https://localhost:8080/",
          "height": 34
        },
        "outputId": "88553b22-a413-4849-8aa5-0726a49c16c4"
      },
      "source": [
        "#add code\n",
        "!ls 'drive/My Drive/Data/DS1/'"
      ],
      "execution_count": null,
      "outputs": [
        {
          "output_type": "stream",
          "text": [
            "data.txt  location.png\n"
          ],
          "name": "stdout"
        }
      ]
    },
    {
      "cell_type": "markdown",
      "metadata": {
        "id": "1b3F5VvwGN3n",
        "colab_type": "text"
      },
      "source": [
        "#**Copy file into the DS1 and do a list again**\n",
        "\n",
        "!ls 'drive/My Drive/Data/DS1/'"
      ]
    },
    {
      "cell_type": "code",
      "metadata": {
        "id": "T2GQR8gQpEvH",
        "colab_type": "code",
        "colab": {
          "base_uri": "https://localhost:8080/",
          "height": 34
        },
        "outputId": "c454b413-457b-40f7-b4f9-bf001aeb13e8"
      },
      "source": [
        "#add code\n",
        "!ls 'drive/My Drive/Data/DS1/'"
      ],
      "execution_count": null,
      "outputs": [
        {
          "output_type": "stream",
          "text": [
            "data.txt  location.png\n"
          ],
          "name": "stdout"
        }
      ]
    },
    {
      "cell_type": "markdown",
      "metadata": {
        "id": "mpVZoaB_pJZk",
        "colab_type": "text"
      },
      "source": [
        "#**Open file to read the content**\n",
        "\n",
        "a_file = open(datadir+\"data.txt\", \"r\")     \n",
        "    \n",
        "list_of_lists = []    \n",
        "for line in a_file:    \n",
        ">  stripped_line = line.strip()    \n",
        ">  line_list = stripped_line.split()    \n",
        ">  list_of_lists.append(line_list)     \n",
        "    \n",
        "a_file.close()    \n",
        "   \n",
        "print(list_of_lists)   "
      ]
    },
    {
      "cell_type": "code",
      "metadata": {
        "id": "dj-owIpupPIu",
        "colab_type": "code",
        "colab": {
          "base_uri": "https://localhost:8080/",
          "height": 34
        },
        "outputId": "69501450-75ce-41b3-b61d-66801e292411"
      },
      "source": [
        "#add code\n",
        "\n",
        "a_file = open(datadir+\"data.txt\", \"r\")\n",
        "list_of_lists = []\n",
        "for line in a_file:\n",
        "  stripped_line = line.strip()\n",
        "  line_list = stripped_line.split()\n",
        "  list_of_lists.append(line_list)\n",
        "\n",
        "a_file.close()\n",
        "print(list_of_lists)"
      ],
      "execution_count": null,
      "outputs": [
        {
          "output_type": "stream",
          "text": [
            "[['Testing', '123'], ['Testing', '123'], ['Testing', '123']]\n"
          ],
          "name": "stdout"
        }
      ]
    },
    {
      "cell_type": "markdown",
      "metadata": {
        "id": "SWkztWHCrqQd",
        "colab_type": "text"
      },
      "source": [
        "#**Read a CSV file for testing**\n",
        "\n",
        "import pandas as pd   \n",
        "import io   \n",
        "import requests   \n",
        "\n",
        "url = \"https://raw.github.com/vincentarelbundock/Rdatasets/master/csv/datasets/AirPassengers.csv\"   \n",
        "s = requests.get(url).content   \n",
        "ds = pd.read_csv(io.StringIO(s.decode('utf-8')))   \n",
        "print(ds.head())   \n",
        "print(ds.describe())   \n"
      ]
    },
    {
      "cell_type": "code",
      "metadata": {
        "id": "l24xri3Drqsl",
        "colab_type": "code",
        "colab": {
          "base_uri": "https://localhost:8080/",
          "height": 272
        },
        "outputId": "15e2e72e-9056-443d-a0ec-c73198f51c30"
      },
      "source": [
        "#add code\n",
        "\n",
        "import pandas as pd\n",
        "import io\n",
        "import requests\n",
        "\n",
        "url = \"https://raw.github.com/vincentarelbundock/Rdatasets/master/csv/datasets/AirPassengers.csv\"\n",
        "s = requests.get(url).content\n",
        "ds = pd.read_csv(io.StringIO(s.decode('utf-8')))\n",
        "print(ds.head())\n",
        "print(ds.describe())\n",
        "\n"
      ],
      "execution_count": null,
      "outputs": [
        {
          "output_type": "stream",
          "text": [
            "   Unnamed: 0         time  value\n",
            "0           1  1949.000000    112\n",
            "1           2  1949.083333    118\n",
            "2           3  1949.166667    132\n",
            "3           4  1949.250000    129\n",
            "4           5  1949.333333    121\n",
            "       Unnamed: 0         time       value\n",
            "count  144.000000   144.000000  144.000000\n",
            "mean    72.500000  1954.958333  280.298611\n",
            "std     41.713307     3.476109  119.966317\n",
            "min      1.000000  1949.000000  104.000000\n",
            "25%     36.750000  1951.979167  180.000000\n",
            "50%     72.500000  1954.958333  265.500000\n",
            "75%    108.250000  1957.937500  360.500000\n",
            "max    144.000000  1960.916667  622.000000\n"
          ],
          "name": "stdout"
        }
      ]
    },
    {
      "cell_type": "markdown",
      "metadata": {
        "id": "YDQAv7EysVTV",
        "colab_type": "text"
      },
      "source": [
        "#**Read a image files**   \n",
        "get any photo and copy the google drive 'drive/My Drive/Data/DS1/'\n",
        "\n",
        "code:   \n",
        "!pip install opencv-python    \n",
        "     \n",
        "import cv2    \n",
        "     \n",
        "img = cv2.imread(datadir+'rose.png')   \n",
        "    \n",
        "print(\"Image Properties\")    \n",
        "print(\"- Number of Pixels: \" + str(img.size))   \n",
        "print(\"- Shape/Dimensions: \" + str(img.shape))   \n"
      ]
    },
    {
      "cell_type": "code",
      "metadata": {
        "id": "iVRSoZnctU-G",
        "colab_type": "code",
        "colab": {
          "base_uri": "https://localhost:8080/",
          "height": 102
        },
        "outputId": "509aa656-2f65-4bdf-bf45-3dc93c989b3c"
      },
      "source": [
        "#add code\n",
        "\n",
        "!pip3 install opencv-python\n",
        "import cv2\n",
        "img = cv2.imread(datadir+'location.png')\n",
        "print(\"Image Properties\")\n",
        "print(\"- Number of Pixels: \" + str(img.size))\n",
        "print(\"- Shape/Dimensions: \" + str(img.shape))"
      ],
      "execution_count": null,
      "outputs": [
        {
          "output_type": "stream",
          "text": [
            "Requirement already satisfied: opencv-python in /usr/local/lib/python3.6/dist-packages (4.1.2.30)\n",
            "Requirement already satisfied: numpy>=1.11.3 in /usr/local/lib/python3.6/dist-packages (from opencv-python) (1.18.2)\n",
            "Image Properties\n",
            "- Number of Pixels: 4320000\n",
            "- Shape/Dimensions: (1200, 1200, 3)\n"
          ],
          "name": "stdout"
        }
      ]
    },
    {
      "cell_type": "markdown",
      "metadata": {
        "id": "9V8kll3DwkDK",
        "colab_type": "text"
      },
      "source": [
        "#Read image data  \n",
        "\n",
        "from google.colab.patches import cv2_imshow    \n",
        "    \n",
        "blue, green, red = cv2.split(img) # Split the image into its channels    \n",
        "img_gs = cv2.imread('rose.jpg', cv2.IMREAD_GRAYSCALE) # Convert image to grayscale     \n",
        "   \n",
        "cv2_imshow(red) # Display the red channel in the image   \n",
        "cv2_imshow(blue) # Display the red channel in the image   \n",
        "cv2_imshow(green) # Display the red channel in the image   "
      ]
    },
    {
      "cell_type": "code",
      "metadata": {
        "id": "sHdWxbd6uIAd",
        "colab_type": "code",
        "colab": {
          "base_uri": "https://localhost:8080/",
          "height": 1000
        },
        "outputId": "fb6a812d-1d82-463d-e076-aad7880e38d2"
      },
      "source": [
        "#Add code\n",
        "\n",
        "from google.colab.patches import cv2_imshow\n",
        "blue, green, red = cv2.split(img) # Split the image into its channels\n",
        "img_gs = cv2.imread(datadir+'location.jpg', cv2.IMREAD_GRAYSCALE) # Convert image to grayscale\n",
        "cv2_imshow(red) # Display the red channel in the image\n",
        "cv2_imshow(blue) # Display the red channel in the image\n",
        "cv2_imshow(green) # Display the red channel in the image"
      ],
      "execution_count": null,
      "outputs": [
        {
          "output_type": "display_data",
          "data": {
            "image/png": "[encoded data removed]",
            "text/plain": [
              "<PIL.Image.Image image mode=L size=1200x1200 at 0x7F3A7CC59710>"
            ]
          },
          "metadata": {
            "tags": []
          }
        },
        {
          "output_type": "display_data",
          "data": {
            "image/png": "[encoded data removed]",
            "text/plain": [
              "<PIL.Image.Image image mode=L size=1200x1200 at 0x7F3A7CC59748>"
            ]
          },
          "metadata": {
            "tags": []
          }
        },
        {
          "output_type": "display_data",
          "data": {
            "image/png": "[encoded data removed]",
            "text/plain": [
              "<PIL.Image.Image image mode=L size=1200x1200 at 0x7F3A7CC59780>"
            ]
          },
          "metadata": {
            "tags": []
          }
        }
      ]
    },
    {
      "cell_type": "code",
      "metadata": {
        "id": "kKKYlXN5BN40",
        "colab_type": "code",
        "colab": {}
      },
      "source": [
        ""
      ],
      "execution_count": null,
      "outputs": []
    }
  ]
}