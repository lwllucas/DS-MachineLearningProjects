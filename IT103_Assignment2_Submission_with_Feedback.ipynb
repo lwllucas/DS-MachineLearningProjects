{
  "nbformat": 4,
  "nbformat_minor": 0,
  "metadata": {
    "colab": {
      "name": "IT103 Assignment2 Submission with Feedback.ipynb",
      "provenance": [],
      "collapsed_sections": [],
      "include_colab_link": true
    },
    "kernelspec": {
      "display_name": "Python 3.8 (mlenv)",
      "language": "python",
      "name": "mlenv"
    },
    "language_info": {
      "codemirror_mode": {
        "name": "ipython",
        "version": 3
      },
      "file_extension": ".py",
      "mimetype": "text/x-python",
      "name": "python",
      "nbconvert_exporter": "python",
      "pygments_lexer": "ipython3",
      "version": "3.8.3"
    }
  },
  "cells": [
    {
      "cell_type": "markdown",
      "metadata": {
        "id": "view-in-github",
        "colab_type": "text"
      },
      "source": [
        "<a href=\"https://colab.research.google.com/github/lwllucas/DS-MachineLearningProjects/blob/master/IT103_Assignment2_Submission_with_Feedback.ipynb\" target=\"_parent\"><img src=\"https://colab.research.google.com/assets/colab-badge.svg\" alt=\"Open In Colab\"/></a>"
      ]
    },
    {
      "cell_type": "markdown",
      "metadata": {
        "colab_type": "text",
        "id": "pTwSmAeVg5uz"
      },
      "source": [
        "## Practical Assignment 2 ##\n",
        "\n",
        "In this assignment, you will be working on a binary classification task: predict if a passenger survive or die in an transport accident.  \n",
        "\n",
        "Plese answer **ALL** the questions below (Question 1 to 13). You may refer to online documentation (e.g. scikit-learn, pandas, etc) for help on syntax. No copying of codes wholesale is allowed.\n",
        "\n",
        "_**Note**: Use a random_state = 42 where appropriate_\n",
        "\n",
        "#### maximum marks = 30 ###"
      ]
    },
    {
      "cell_type": "code",
      "metadata": {
        "colab_type": "code",
        "id": "36tkrf4xaE6w",
        "colab": {}
      },
      "source": [
        "import pandas as pd\n",
        "import numpy as np\n",
        "import matplotlib.pyplot as plt"
      ],
      "execution_count": null,
      "outputs": []
    },
    {
      "cell_type": "markdown",
      "metadata": {
        "colab_type": "text",
        "id": "NsgXwHRpCR-p"
      },
      "source": [
        "**Question 1** (1 mark)\n",
        "\n",
        "Load the dataset csv file from https://raw.githubusercontent.com/nyp-sit/sdaai-iti103/master/assignment2/passengerdata.csv and display the first 10 rows of data"
      ]
    },
    {
      "cell_type": "markdown",
      "metadata": {
        "colab_type": "text",
        "id": "c94lwPlDlSrz"
      },
      "source": [
        "_Desription of the data_\n",
        "\n",
        "|Variable|Definition|Key|\n",
        "|--|--|--|\n",
        "|Survived|Survival|0 = No, 1 = Yes|\n",
        "|Class|Ticket class||\n",
        "|Sex|Sex||\n",
        "|Age|Age in years||\n",
        "|NoSiblingSpouse|# of siblings or spouses onboard||\n",
        "|NoParentsChildren|# of parents or children onboard ||\n",
        "|TicketNo|Ticket numer||\n",
        "|Fare|Passenger fare||\n",
        "|CabinNo|Cabin number||\n",
        "|EmbarkationPort|Port of Embarkation|C = Cherbourg, Q = Queenstown, S = Southampton|\n",
        "\n"
      ]
    },
    {
      "cell_type": "code",
      "metadata": {
        "colab_type": "code",
        "id": "fAZ7w9i9bdWH",
        "colab": {
          "base_uri": "https://localhost:8080/",
          "height": 356
        },
        "outputId": "083f420b-a617-43c8-e76f-1188e278387e"
      },
      "source": [
        "### START YOUR CODE HERE ###\n",
        "url = \"https://raw.githubusercontent.com/nyp-sit/sdaai-iti103/master/assignment2/passengerdata.csv\"\n",
        "df = pd.read_csv(url)\n",
        "df.head(10)\n",
        "### END YOUR CODE HERE ###"
      ],
      "execution_count": null,
      "outputs": [
        {
          "output_type": "execute_result",
          "data": {
            "text/html": [
              "<div>\n",
              "<style scoped>\n",
              "    .dataframe tbody tr th:only-of-type {\n",
              "        vertical-align: middle;\n",
              "    }\n",
              "\n",
              "    .dataframe tbody tr th {\n",
              "        vertical-align: top;\n",
              "    }\n",
              "\n",
              "    .dataframe thead th {\n",
              "        text-align: right;\n",
              "    }\n",
              "</style>\n",
              "<table border=\"1\" class=\"dataframe\">\n",
              "  <thead>\n",
              "    <tr style=\"text-align: right;\">\n",
              "      <th></th>\n",
              "      <th>PassengerId</th>\n",
              "      <th>Survived</th>\n",
              "      <th>Class</th>\n",
              "      <th>Name</th>\n",
              "      <th>Sex</th>\n",
              "      <th>Age</th>\n",
              "      <th>NoSiblingSpouse</th>\n",
              "      <th>NoParentsChildren</th>\n",
              "      <th>TicketNo</th>\n",
              "      <th>Fare</th>\n",
              "      <th>CabinNo</th>\n",
              "      <th>EmbarkationPort</th>\n",
              "    </tr>\n",
              "  </thead>\n",
              "  <tbody>\n",
              "    <tr>\n",
              "      <th>0</th>\n",
              "      <td>1</td>\n",
              "      <td>0</td>\n",
              "      <td>3</td>\n",
              "      <td>Braund, Mr. Owen Harris</td>\n",
              "      <td>male</td>\n",
              "      <td>22.0</td>\n",
              "      <td>1</td>\n",
              "      <td>0</td>\n",
              "      <td>A/5 21171</td>\n",
              "      <td>7.2500</td>\n",
              "      <td>NaN</td>\n",
              "      <td>S</td>\n",
              "    </tr>\n",
              "    <tr>\n",
              "      <th>1</th>\n",
              "      <td>2</td>\n",
              "      <td>1</td>\n",
              "      <td>1</td>\n",
              "      <td>Cumings, Mrs. John Bradley (Florence Briggs Th...</td>\n",
              "      <td>female</td>\n",
              "      <td>38.0</td>\n",
              "      <td>1</td>\n",
              "      <td>0</td>\n",
              "      <td>PC 17599</td>\n",
              "      <td>71.2833</td>\n",
              "      <td>C85</td>\n",
              "      <td>C</td>\n",
              "    </tr>\n",
              "    <tr>\n",
              "      <th>2</th>\n",
              "      <td>3</td>\n",
              "      <td>1</td>\n",
              "      <td>3</td>\n",
              "      <td>Heikkinen, Miss. Laina</td>\n",
              "      <td>female</td>\n",
              "      <td>26.0</td>\n",
              "      <td>0</td>\n",
              "      <td>0</td>\n",
              "      <td>STON/O2. 3101282</td>\n",
              "      <td>7.9250</td>\n",
              "      <td>NaN</td>\n",
              "      <td>S</td>\n",
              "    </tr>\n",
              "    <tr>\n",
              "      <th>3</th>\n",
              "      <td>4</td>\n",
              "      <td>1</td>\n",
              "      <td>1</td>\n",
              "      <td>Futrelle, Mrs. Jacques Heath (Lily May Peel)</td>\n",
              "      <td>female</td>\n",
              "      <td>35.0</td>\n",
              "      <td>1</td>\n",
              "      <td>0</td>\n",
              "      <td>113803</td>\n",
              "      <td>53.1000</td>\n",
              "      <td>C123</td>\n",
              "      <td>S</td>\n",
              "    </tr>\n",
              "    <tr>\n",
              "      <th>4</th>\n",
              "      <td>5</td>\n",
              "      <td>0</td>\n",
              "      <td>3</td>\n",
              "      <td>Allen, Mr. William Henry</td>\n",
              "      <td>male</td>\n",
              "      <td>35.0</td>\n",
              "      <td>0</td>\n",
              "      <td>0</td>\n",
              "      <td>373450</td>\n",
              "      <td>8.0500</td>\n",
              "      <td>NaN</td>\n",
              "      <td>S</td>\n",
              "    </tr>\n",
              "    <tr>\n",
              "      <th>5</th>\n",
              "      <td>6</td>\n",
              "      <td>0</td>\n",
              "      <td>3</td>\n",
              "      <td>Moran, Mr. James</td>\n",
              "      <td>male</td>\n",
              "      <td>NaN</td>\n",
              "      <td>0</td>\n",
              "      <td>0</td>\n",
              "      <td>330877</td>\n",
              "      <td>8.4583</td>\n",
              "      <td>NaN</td>\n",
              "      <td>Q</td>\n",
              "    </tr>\n",
              "    <tr>\n",
              "      <th>6</th>\n",
              "      <td>7</td>\n",
              "      <td>0</td>\n",
              "      <td>1</td>\n",
              "      <td>McCarthy, Mr. Timothy J</td>\n",
              "      <td>male</td>\n",
              "      <td>54.0</td>\n",
              "      <td>0</td>\n",
              "      <td>0</td>\n",
              "      <td>17463</td>\n",
              "      <td>51.8625</td>\n",
              "      <td>E46</td>\n",
              "      <td>S</td>\n",
              "    </tr>\n",
              "    <tr>\n",
              "      <th>7</th>\n",
              "      <td>8</td>\n",
              "      <td>0</td>\n",
              "      <td>3</td>\n",
              "      <td>Palsson, Master. Gosta Leonard</td>\n",
              "      <td>male</td>\n",
              "      <td>2.0</td>\n",
              "      <td>3</td>\n",
              "      <td>1</td>\n",
              "      <td>349909</td>\n",
              "      <td>21.0750</td>\n",
              "      <td>NaN</td>\n",
              "      <td>S</td>\n",
              "    </tr>\n",
              "    <tr>\n",
              "      <th>8</th>\n",
              "      <td>9</td>\n",
              "      <td>1</td>\n",
              "      <td>3</td>\n",
              "      <td>Johnson, Mrs. Oscar W (Elisabeth Vilhelmina Berg)</td>\n",
              "      <td>female</td>\n",
              "      <td>27.0</td>\n",
              "      <td>0</td>\n",
              "      <td>2</td>\n",
              "      <td>347742</td>\n",
              "      <td>11.1333</td>\n",
              "      <td>NaN</td>\n",
              "      <td>S</td>\n",
              "    </tr>\n",
              "    <tr>\n",
              "      <th>9</th>\n",
              "      <td>10</td>\n",
              "      <td>1</td>\n",
              "      <td>2</td>\n",
              "      <td>Nasser, Mrs. Nicholas (Adele Achem)</td>\n",
              "      <td>female</td>\n",
              "      <td>14.0</td>\n",
              "      <td>1</td>\n",
              "      <td>0</td>\n",
              "      <td>237736</td>\n",
              "      <td>30.0708</td>\n",
              "      <td>NaN</td>\n",
              "      <td>C</td>\n",
              "    </tr>\n",
              "  </tbody>\n",
              "</table>\n",
              "</div>"
            ],
            "text/plain": [
              "   PassengerId  Survived  Class  ...     Fare CabinNo  EmbarkationPort\n",
              "0            1         0      3  ...   7.2500     NaN                S\n",
              "1            2         1      1  ...  71.2833     C85                C\n",
              "2            3         1      3  ...   7.9250     NaN                S\n",
              "3            4         1      1  ...  53.1000    C123                S\n",
              "4            5         0      3  ...   8.0500     NaN                S\n",
              "5            6         0      3  ...   8.4583     NaN                Q\n",
              "6            7         0      1  ...  51.8625     E46                S\n",
              "7            8         0      3  ...  21.0750     NaN                S\n",
              "8            9         1      3  ...  11.1333     NaN                S\n",
              "9           10         1      2  ...  30.0708     NaN                C\n",
              "\n",
              "[10 rows x 12 columns]"
            ]
          },
          "metadata": {
            "tags": []
          },
          "execution_count": 3
        }
      ]
    },
    {
      "cell_type": "markdown",
      "metadata": {
        "colab_type": "text",
        "id": "gOk7W7wKCPWY"
      },
      "source": [
        "**Question 2**  (2 marks)\n",
        "\n",
        "Inspect the dataframe to see which are categorical values and if there is any missing values. \n",
        "\n",
        "After you complete the code in the code cell, answer the following questions here by entering your answers in this markdown cell:\n",
        "\n",
        "1.  Which are the categorical column(s)? List the column names.  \n",
        "The column names are (1) Name , (2) Sex, (3) TicketNo, (4) CabinNo, (5) EmbarkationPort, (6) Class (Although class is numerical, we have identified that the different classes are related and hence it would be better to apply one hot encoding to it as well subsequently)\n",
        "2.  Which columns have missing values? List the column names.  \n",
        "The column that have null values are (1)Age, (2)CabinNo, (3) EmbarkationPort"
      ]
    },
    {
      "cell_type": "code",
      "metadata": {
        "colab_type": "code",
        "id": "18PiFDdUgulz",
        "colab": {
          "base_uri": "https://localhost:8080/",
          "height": 294
        },
        "outputId": "62e77514-d58d-45f3-8f05-dc69ffe08b23"
      },
      "source": [
        "### START YOUR CODE HERE ###\n",
        "str_cols = df.dtypes == np.object\n",
        "print(str_cols)\n",
        "cat_cols = df.columns[str_cols]\n",
        "print(cat_cols)\n",
        "print(str(len(cat_cols))+ \" columns are categorical\")\n",
        "\n",
        "null_values = [col for col in df.columns if df[col].isnull().any()]\n",
        "print(\"Columns that have null values are\" + str(null_values))\n",
        "### END YOUR CODE HERE ###"
      ],
      "execution_count": null,
      "outputs": [
        {
          "output_type": "stream",
          "text": [
            "PassengerId          False\n",
            "Survived             False\n",
            "Class                False\n",
            "Name                  True\n",
            "Sex                   True\n",
            "Age                  False\n",
            "NoSiblingSpouse      False\n",
            "NoParentsChildren    False\n",
            "TicketNo              True\n",
            "Fare                 False\n",
            "CabinNo               True\n",
            "EmbarkationPort       True\n",
            "dtype: bool\n",
            "Index(['Name', 'Sex', 'TicketNo', 'CabinNo', 'EmbarkationPort'], dtype='object')\n",
            "5 columns are categorical\n",
            "Columns that have null values are['Age', 'CabinNo', 'EmbarkationPort']\n"
          ],
          "name": "stdout"
        }
      ]
    },
    {
      "cell_type": "code",
      "metadata": {
        "id": "gtFgIOhtePrO",
        "colab_type": "code",
        "colab": {
          "base_uri": "https://localhost:8080/",
          "height": 693
        },
        "outputId": "f91c4f44-2eb9-4389-e3d1-27734102bd10"
      },
      "source": [
        "print(df['NoParentsChildren'].value_counts())\n",
        "print()\n",
        "print()\n",
        "print(df['NoSiblingSpouse'].value_counts())\n",
        "print()\n",
        "print()\n",
        "print(df['EmbarkationPort'].value_counts())\n",
        "print()\n",
        "print()\n",
        "print(df['Class'].value_counts())\n",
        "print()\n",
        "print()\n",
        "print(df['Sex'].value_counts())\n",
        "print()\n",
        "print()\n",
        "print(f\"Range for Age: {df['Age'].min()} <= Age <=  {df['Age'].max()}\")\n",
        "print(f\"Range for Fare: {df['Fare'].min()} <= Fare <=  {df['Fare'].max()}\")"
      ],
      "execution_count": null,
      "outputs": [
        {
          "output_type": "stream",
          "text": [
            "0    678\n",
            "1    118\n",
            "2     80\n",
            "5      5\n",
            "3      5\n",
            "4      4\n",
            "6      1\n",
            "Name: NoParentsChildren, dtype: int64\n",
            "\n",
            "\n",
            "0    608\n",
            "1    209\n",
            "2     28\n",
            "4     18\n",
            "3     16\n",
            "8      7\n",
            "5      5\n",
            "Name: NoSiblingSpouse, dtype: int64\n",
            "\n",
            "\n",
            "S    644\n",
            "C    168\n",
            "Q     77\n",
            "Name: EmbarkationPort, dtype: int64\n",
            "\n",
            "\n",
            "3    491\n",
            "1    216\n",
            "2    184\n",
            "Name: Class, dtype: int64\n",
            "\n",
            "\n",
            "male      577\n",
            "female    314\n",
            "Name: Sex, dtype: int64\n",
            "\n",
            "\n",
            "Range for Age: 0.42 <= Age <=  80.0\n",
            "Range for Fare: 0.0 <= Fare <=  512.3292\n"
          ],
          "name": "stdout"
        }
      ]
    },
    {
      "cell_type": "markdown",
      "metadata": {
        "colab_type": "text",
        "id": "LL7CtXBhDCaD"
      },
      "source": [
        "**Question 3** (6 marks)\n",
        "\n",
        "Encode appropriate categorical features using one-hot-encoding.  You may decide to drop certain categorical features that are not relevant to whether the person survived or not.  "
      ]
    },
    {
      "cell_type": "markdown",
      "metadata": {
        "id": "fQV57AVMZpVe",
        "colab_type": "text"
      },
      "source": [
        "Feedback from Mr Mar: Q3. Maybe better to treat class as ordinal, and not do OHE as the ordering maybe important.. "
      ]
    },
    {
      "cell_type": "code",
      "metadata": {
        "id": "EcnFkrSbA6Go",
        "colab_type": "code",
        "colab": {
          "base_uri": "https://localhost:8080/",
          "height": 242
        },
        "outputId": "0abe33ed-f94c-4cea-ceec-2df12ca17598"
      },
      "source": [
        "# Check for null values\n",
        "df.isna().sum()"
      ],
      "execution_count": null,
      "outputs": [
        {
          "output_type": "execute_result",
          "data": {
            "text/plain": [
              "PassengerId            0\n",
              "Survived               0\n",
              "Class                  0\n",
              "Name                   0\n",
              "Sex                    0\n",
              "Age                  177\n",
              "NoSiblingSpouse        0\n",
              "NoParentsChildren      0\n",
              "TicketNo               0\n",
              "Fare                   0\n",
              "CabinNo              687\n",
              "EmbarkationPort        2\n",
              "dtype: int64"
            ]
          },
          "metadata": {
            "tags": []
          },
          "execution_count": 6
        }
      ]
    },
    {
      "cell_type": "code",
      "metadata": {
        "colab_type": "code",
        "id": "aU1KxEWiiflX",
        "colab": {
          "base_uri": "https://localhost:8080/",
          "height": 428
        },
        "outputId": "20706079-93c4-4357-f95d-fe15ffdb2810"
      },
      "source": [
        "### START YOUR CODE HERE ###\n",
        "\n",
        "# I have decided to drop the columns Name, PassengerID, Ticket and Cabin No as these are features which have no relation to the survival rate\n",
        "# from sklearn.preprocessing import OneHotEncoder, LabelEncoder\n",
        "# le = LabelEncoder()\n",
        "# ohc = OneHotEncoder()\n",
        "new_df = df.copy()\n",
        "\n",
        "# # Drop the columns\n",
        "new_df = new_df.drop(['CabinNo','PassengerId','Name', 'TicketNo'], axis = 1)\n",
        "new_df = new_df.dropna(subset=['EmbarkationPort', 'Age'])\n",
        "\n",
        "# Look at the dat types\n",
        "print(new_df.dtypes)\n",
        "\n",
        "# Print unique values in the columns\n",
        "print(new_df['Sex'].unique())\n",
        "print(new_df['EmbarkationPort'].unique())\n",
        "\n",
        "str_cols = new_df.dtypes == np.object\n",
        "\n",
        "print(type(str_cols))\n",
        "cat_cols = new_df.columns[str_cols]\n",
        "print(cat_cols)\n",
        "\n",
        "new_df = pd.get_dummies(new_df, columns =['Class','Sex','EmbarkationPort'])\n",
        "new_df.head()\n",
        "### END YOUR CODE HERE ###"
      ],
      "execution_count": null,
      "outputs": [
        {
          "output_type": "stream",
          "text": [
            "Survived               int64\n",
            "Class                  int64\n",
            "Sex                   object\n",
            "Age                  float64\n",
            "NoSiblingSpouse        int64\n",
            "NoParentsChildren      int64\n",
            "Fare                 float64\n",
            "EmbarkationPort       object\n",
            "dtype: object\n",
            "['male' 'female']\n",
            "['S' 'C' 'Q']\n",
            "<class 'pandas.core.series.Series'>\n",
            "Index(['Sex', 'EmbarkationPort'], dtype='object')\n"
          ],
          "name": "stdout"
        },
        {
          "output_type": "execute_result",
          "data": {
            "text/html": [
              "<div>\n",
              "<style scoped>\n",
              "    .dataframe tbody tr th:only-of-type {\n",
              "        vertical-align: middle;\n",
              "    }\n",
              "\n",
              "    .dataframe tbody tr th {\n",
              "        vertical-align: top;\n",
              "    }\n",
              "\n",
              "    .dataframe thead th {\n",
              "        text-align: right;\n",
              "    }\n",
              "</style>\n",
              "<table border=\"1\" class=\"dataframe\">\n",
              "  <thead>\n",
              "    <tr style=\"text-align: right;\">\n",
              "      <th></th>\n",
              "      <th>Survived</th>\n",
              "      <th>Age</th>\n",
              "      <th>NoSiblingSpouse</th>\n",
              "      <th>NoParentsChildren</th>\n",
              "      <th>Fare</th>\n",
              "      <th>Class_1</th>\n",
              "      <th>Class_2</th>\n",
              "      <th>Class_3</th>\n",
              "      <th>Sex_female</th>\n",
              "      <th>Sex_male</th>\n",
              "      <th>EmbarkationPort_C</th>\n",
              "      <th>EmbarkationPort_Q</th>\n",
              "      <th>EmbarkationPort_S</th>\n",
              "    </tr>\n",
              "  </thead>\n",
              "  <tbody>\n",
              "    <tr>\n",
              "      <th>0</th>\n",
              "      <td>0</td>\n",
              "      <td>22.0</td>\n",
              "      <td>1</td>\n",
              "      <td>0</td>\n",
              "      <td>7.2500</td>\n",
              "      <td>0</td>\n",
              "      <td>0</td>\n",
              "      <td>1</td>\n",
              "      <td>0</td>\n",
              "      <td>1</td>\n",
              "      <td>0</td>\n",
              "      <td>0</td>\n",
              "      <td>1</td>\n",
              "    </tr>\n",
              "    <tr>\n",
              "      <th>1</th>\n",
              "      <td>1</td>\n",
              "      <td>38.0</td>\n",
              "      <td>1</td>\n",
              "      <td>0</td>\n",
              "      <td>71.2833</td>\n",
              "      <td>1</td>\n",
              "      <td>0</td>\n",
              "      <td>0</td>\n",
              "      <td>1</td>\n",
              "      <td>0</td>\n",
              "      <td>1</td>\n",
              "      <td>0</td>\n",
              "      <td>0</td>\n",
              "    </tr>\n",
              "    <tr>\n",
              "      <th>2</th>\n",
              "      <td>1</td>\n",
              "      <td>26.0</td>\n",
              "      <td>0</td>\n",
              "      <td>0</td>\n",
              "      <td>7.9250</td>\n",
              "      <td>0</td>\n",
              "      <td>0</td>\n",
              "      <td>1</td>\n",
              "      <td>1</td>\n",
              "      <td>0</td>\n",
              "      <td>0</td>\n",
              "      <td>0</td>\n",
              "      <td>1</td>\n",
              "    </tr>\n",
              "    <tr>\n",
              "      <th>3</th>\n",
              "      <td>1</td>\n",
              "      <td>35.0</td>\n",
              "      <td>1</td>\n",
              "      <td>0</td>\n",
              "      <td>53.1000</td>\n",
              "      <td>1</td>\n",
              "      <td>0</td>\n",
              "      <td>0</td>\n",
              "      <td>1</td>\n",
              "      <td>0</td>\n",
              "      <td>0</td>\n",
              "      <td>0</td>\n",
              "      <td>1</td>\n",
              "    </tr>\n",
              "    <tr>\n",
              "      <th>4</th>\n",
              "      <td>0</td>\n",
              "      <td>35.0</td>\n",
              "      <td>0</td>\n",
              "      <td>0</td>\n",
              "      <td>8.0500</td>\n",
              "      <td>0</td>\n",
              "      <td>0</td>\n",
              "      <td>1</td>\n",
              "      <td>0</td>\n",
              "      <td>1</td>\n",
              "      <td>0</td>\n",
              "      <td>0</td>\n",
              "      <td>1</td>\n",
              "    </tr>\n",
              "  </tbody>\n",
              "</table>\n",
              "</div>"
            ],
            "text/plain": [
              "   Survived   Age  ...  EmbarkationPort_Q  EmbarkationPort_S\n",
              "0         0  22.0  ...                  0                  1\n",
              "1         1  38.0  ...                  0                  0\n",
              "2         1  26.0  ...                  0                  1\n",
              "3         1  35.0  ...                  0                  1\n",
              "4         0  35.0  ...                  0                  1\n",
              "\n",
              "[5 rows x 13 columns]"
            ]
          },
          "metadata": {
            "tags": []
          },
          "execution_count": 7
        }
      ]
    },
    {
      "cell_type": "markdown",
      "metadata": {
        "colab_type": "text",
        "id": "AJNmCD6qCs2J"
      },
      "source": [
        "**Question 4**  (6 marks)\n",
        "\n",
        "Formulate your strategy to deal with the missing data.  You may decide to drop the column, fill it with default values, or remove the rows.  Give reasons for the strategy used when dealing with these missing values (write your reasons in the space below 'Answer' in this cell). Then write the codes to deal with missing values in the code cell below.\n",
        "\n",
        "***Answer***: \n",
        "\n",
        "I have decided to drop the rows with missing values and in particular the ones that had missing values were EmbarkationPort and Age. As I needed to do One hot encoding in Question 3, i have decided to drop the missing values before that to prevent Nan values to be formed as part of the one hot encoding and also it is not possible to know the actual values without closely inspecting the names of the passengers. \n",
        "\n",
        "<your answer here>\n"
      ]
    },
    {
      "cell_type": "markdown",
      "metadata": {
        "id": "TLEhIOEGZzI2",
        "colab_type": "text"
      },
      "source": [
        "feedback from Mr Mar \n",
        "Q4. Probably not to drop missing rows for Age as you would have reduce the dataset signficantly by 177 records. You can infer values for age based on the title of the names, or simply the median age. Unless we have a large dataset, we need to be careful before throwing away samples. "
      ]
    },
    {
      "cell_type": "code",
      "metadata": {
        "colab_type": "code",
        "id": "_naqkTsulSr-",
        "colab": {}
      },
      "source": [
        "### START YOUR CODE HERE ###\n",
        "### END YOUR CODE HERE ###"
      ],
      "execution_count": null,
      "outputs": []
    },
    {
      "cell_type": "markdown",
      "metadata": {
        "colab_type": "text",
        "id": "hj4TMZgZE6xa"
      },
      "source": [
        "**Question 5** (2 marks)\n",
        "\n",
        "You want to build a model to predict how likely a passenger will survive in the case of train crash.  Create the ```X_train, y_train, X_test, y_test``` from the given dataset.\n"
      ]
    },
    {
      "cell_type": "code",
      "metadata": {
        "colab_type": "code",
        "id": "LXjRGd9plSsB",
        "colab": {
          "base_uri": "https://localhost:8080/",
          "height": 173
        },
        "outputId": "efe28a8a-72d4-43a7-b423-60fe1e19d070"
      },
      "source": [
        "### START YOUR CODE HERE ###\n",
        "\n",
        "# Split the data into independent 'X' and dependent 'Y' Variables\n",
        "y = new_df.iloc[:, 0].values\n",
        "# print(y)\n",
        "\n",
        "X = new_df.iloc[:, 1:13].values\n",
        "# print(X)\n",
        "\n",
        "# Split the dataset into 80% training and 20% testing\n",
        "from sklearn.model_selection import train_test_split\n",
        "X_train, X_test, y_train, y_test = train_test_split(X, y, test_size=0.2, random_state = 42)\n",
        "\n",
        "print(len(X_train))\n",
        "print(len(y_train))\n",
        "\n",
        "print(\"label counts in train:\")\n",
        "print(\"1\", (y_train == 0).sum())\n",
        "print(\"0\", y_train.sum())\n",
        "print()\n",
        "\n",
        "print(\"label counts in test:\")\n",
        "print(\"1\", (y_test == 0).sum())\n",
        "print(\"0\", y_test.sum())\n",
        "### END YOUR CODE HERE ###"
      ],
      "execution_count": null,
      "outputs": [
        {
          "output_type": "stream",
          "text": [
            "569\n",
            "569\n",
            "label counts in train:\n",
            "1 344\n",
            "0 225\n",
            "\n",
            "label counts in test:\n",
            "1 80\n",
            "0 63\n"
          ],
          "name": "stdout"
        }
      ]
    },
    {
      "cell_type": "markdown",
      "metadata": {
        "colab_type": "text",
        "id": "Om853yeqlSsE"
      },
      "source": [
        "**Question 6** (2 marks)\n",
        "\n",
        "Evaluate how well your model will perform (in terms of `accuracy`) with a LogisticRegression classifier using 5-fold cross-validation. For the Logistic Regressor, specify `liblinear` as the solver. \n",
        "\n",
        "Calculate the mean validation accuracy. "
      ]
    },
    {
      "cell_type": "code",
      "metadata": {
        "id": "sg8ARuwhlRlk",
        "colab_type": "code",
        "colab": {}
      },
      "source": [
        "# Scale the data\n",
        "from sklearn.preprocessing import StandardScaler, MinMaxScaler\n",
        "\n",
        "sc = MinMaxScaler()\n",
        "\n",
        "num_cols = [0, 1, 2, 3] #Age, Fare\n",
        "\n",
        "# # apply standardization on numerical features\n",
        "for i in num_cols:\n",
        "    # transform the training data column\n",
        "    X_train[:, i] = sc.fit_transform(np.expand_dims(X_train[:, i], axis=1)).squeeze()\n",
        "    \n",
        "    # transform the testing data column\n",
        "    X_test[:, i] = sc.transform(np.expand_dims(X_test[:, i], axis=1)).squeeze()"
      ],
      "execution_count": null,
      "outputs": []
    },
    {
      "cell_type": "code",
      "metadata": {
        "id": "d_CfwaSGnqpG",
        "colab_type": "code",
        "colab": {
          "base_uri": "https://localhost:8080/",
          "height": 69
        },
        "outputId": "7bdfa0de-9592-4c1d-854b-e037779aa79f"
      },
      "source": [
        "X_train[0, :]"
      ],
      "execution_count": null,
      "outputs": [
        {
          "output_type": "execute_result",
          "data": {
            "text/plain": [
              "array([0.40939935, 0.2       , 0.33333333, 0.05416439, 0.        ,\n",
              "       1.        , 0.        , 1.        , 0.        , 0.        ,\n",
              "       0.        , 1.        ])"
            ]
          },
          "metadata": {
            "tags": []
          },
          "execution_count": 11
        }
      ]
    },
    {
      "cell_type": "code",
      "metadata": {
        "colab_type": "code",
        "id": "cl88WinLl-oL",
        "colab": {
          "base_uri": "https://localhost:8080/",
          "height": 52
        },
        "outputId": "ed7022ad-737f-4936-c946-37f7d07eced7"
      },
      "source": [
        "### START YOUR CODE HERE ###\n",
        "from sklearn.linear_model import LogisticRegression\n",
        "from sklearn.model_selection import cross_val_score\n",
        "\n",
        "#Use Logistic Regression\n",
        "\n",
        "lr = LogisticRegression(solver = 'liblinear', random_state = 42)\n",
        "\n",
        "scores = cross_val_score(lr, X_train, y_train, cv=5, scoring = \"accuracy\")\n",
        "scores.sort()\n",
        "accuracy = scores.mean()\n",
        "\n",
        "print(scores)\n",
        "print(accuracy)\n",
        "### END YOUR CODE HERE ### \n"
      ],
      "execution_count": null,
      "outputs": [
        {
          "output_type": "stream",
          "text": [
            "[0.73684211 0.76315789 0.77192982 0.81415929 0.85964912]\n",
            "0.7891476478807637\n"
          ],
          "name": "stdout"
        }
      ]
    },
    {
      "cell_type": "markdown",
      "metadata": {
        "colab_type": "text",
        "id": "WTu-s8R4FVef"
      },
      "source": [
        "**Question 7** (2 marks)\n",
        "\n",
        "Using 5-fold cross-validation, compute the following: \n",
        "- confusion matrix\n",
        "- precision \n",
        "- recall\n",
        "- f1 score"
      ]
    },
    {
      "cell_type": "code",
      "metadata": {
        "colab_type": "code",
        "id": "nrH8mtMtpLGx",
        "colab": {
          "base_uri": "https://localhost:8080/",
          "height": 225
        },
        "outputId": "4072baa2-aa58-404f-aeca-91d539a13374"
      },
      "source": [
        "### START YOUR CODE HERE \n",
        "from sklearn.metrics import recall_score, precision_score, f1_score, confusion_matrix, roc_curve,roc_auc_score\n",
        "from sklearn.model_selection import cross_val_predict\n",
        "\n",
        "y_train_pred = cross_val_predict(lr, X_train, y_train, cv = 5)\n",
        "\n",
        "confusion = confusion_matrix(y_train, y_train_pred)\n",
        "precision = precision_score(y_train, y_train_pred)\n",
        "recall = recall_score(y_train, y_train_pred)\n",
        "f1_score = f1_score(y_train,y_train_pred)\n",
        "\n",
        "\n",
        "print(\"Confusion Matrix\")\n",
        "print(confusion)\n",
        "print(\"\\nPrecision\")\n",
        "print(precision)\n",
        "print(\"\\nrecall\")\n",
        "print(recall)\n",
        "print(\"\\nf1_score\")\n",
        "print(f1_score)\n",
        "### END YOUR CODE HERE ###  \n"
      ],
      "execution_count": null,
      "outputs": [
        {
          "output_type": "stream",
          "text": [
            "Confusion Matrix\n",
            "[[291  53]\n",
            " [ 67 158]]\n",
            "\n",
            "Precision\n",
            "0.7488151658767772\n",
            "\n",
            "recall\n",
            "0.7022222222222222\n",
            "\n",
            "f1_score\n",
            "0.7247706422018347\n"
          ],
          "name": "stdout"
        }
      ]
    },
    {
      "cell_type": "markdown",
      "metadata": {
        "colab_type": "text",
        "id": "R7mxT4DCFpWP"
      },
      "source": [
        "**Question 8**  (3 marks)\n",
        "\n",
        "Assuming we want to increase the precision score to 0.8, compute the new recall score. Again, use 5-fold cross-validation for your computation. "
      ]
    },
    {
      "cell_type": "code",
      "metadata": {
        "colab_type": "code",
        "id": "OWIvAquHpoDr",
        "colab": {
          "base_uri": "https://localhost:8080/",
          "height": 86
        },
        "outputId": "30852165-5322-4c70-acde-b4260109e66e"
      },
      "source": [
        "## START YOUR CODE HERE ### \n",
        "from sklearn.preprocessing import binarize\n",
        "threshold = 0.57\n",
        "\n",
        "lr = LogisticRegression(solver = 'liblinear', random_state = 42)\n",
        "y_train_pred_new = cross_val_predict(lr, X_train, y_train, cv = 5, method=\"predict_proba\")\n",
        "y_train_pred_bin = binarize(np.expand_dims(y_train_pred_new[:, 1], axis=1), threshold).squeeze()\n",
        "\n",
        "confusion_new = confusion_matrix(y_train, y_train_pred_bin)\n",
        "print(confusion_new)\n",
        "\n",
        "precision_new = precision_score(y_train, y_train_pred_bin)\n",
        "recall_new = recall_score(y_train, y_train_pred_bin)\n",
        "\n",
        "print(precision_new)\n",
        "print(recall_new)\n",
        "### END CODE HERE ###\n"
      ],
      "execution_count": null,
      "outputs": [
        {
          "output_type": "stream",
          "text": [
            "[[311  33]\n",
            " [ 85 140]]\n",
            "0.8092485549132948\n",
            "0.6222222222222222\n"
          ],
          "name": "stdout"
        }
      ]
    },
    {
      "cell_type": "code",
      "metadata": {
        "id": "nxk1HYD8J8l4",
        "colab_type": "code",
        "colab": {
          "base_uri": "https://localhost:8080/",
          "height": 173
        },
        "outputId": "7c21b7d7-5066-4c50-eafa-0a5057ecb3dd"
      },
      "source": [
        "from sklearn.metrics import classification_report\n",
        "\n",
        "print(classification_report(y_train, y_train_pred_bin))"
      ],
      "execution_count": null,
      "outputs": [
        {
          "output_type": "stream",
          "text": [
            "              precision    recall  f1-score   support\n",
            "\n",
            "           0       0.79      0.90      0.84       344\n",
            "           1       0.81      0.62      0.70       225\n",
            "\n",
            "    accuracy                           0.79       569\n",
            "   macro avg       0.80      0.76      0.77       569\n",
            "weighted avg       0.79      0.79      0.79       569\n",
            "\n"
          ],
          "name": "stdout"
        }
      ]
    },
    {
      "cell_type": "code",
      "metadata": {
        "id": "c6-uSqWqe8DO",
        "colab_type": "code",
        "colab": {
          "base_uri": "https://localhost:8080/",
          "height": 454
        },
        "outputId": "eaa2509e-346d-46bf-ae63-82c0fec1d6ca"
      },
      "source": [
        "from sklearn.metrics import precision_recall_curve\n",
        "\n",
        "# getting the probabilities of all 1's\n",
        "y_train_pred_new = y_train_pred_new[:,1]\n",
        "\n",
        "precision, recall, threshold = precision_recall_curve(y_train,y_train_pred_new)\n",
        "\n",
        "def plot_precision_and_recall(precision, recall, threshold):\n",
        "    plt.plot(threshold, precision[:-1], \"r-\", label=\"precision\", linewidth=5)\n",
        "    plt.plot(threshold, recall[:-1], \"b\", label=\"recall\", linewidth=5)\n",
        "    plt.xlabel(\"threshold\", fontsize=19)\n",
        "    plt.legend(loc=\"upper right\", fontsize=19)\n",
        "    plt.ylim([0, 1])\n",
        "\n",
        "plt.figure(figsize=(14, 7))\n",
        "plot_precision_and_recall(precision, recall, threshold)\n",
        "plt.show()"
      ],
      "execution_count": null,
      "outputs": [
        {
          "output_type": "display_data",
          "data": {
            "image/png": "[encoded data removed]",
            "text/plain": [
              "<Figure size 1008x504 with 1 Axes>"
            ]
          },
          "metadata": {
            "tags": [],
            "needs_background": "light"
          }
        }
      ]
    },
    {
      "cell_type": "markdown",
      "metadata": {
        "colab_type": "text",
        "id": "ijLYur0EF3ZW"
      },
      "source": [
        "**Question 9** (2 marks)\n",
        "\n",
        "Receiver Operating Characteristic (ROC) curve is a plot of the true positive rate (TPR) against the false postivie rate (FPR).  \n",
        "- Plot the ROC curve to show the tradeoff between TPR and FPR.\n",
        "- Calculate the ROC AUC (Area Under Curve) score."
      ]
    },
    {
      "cell_type": "code",
      "metadata": {
        "colab_type": "code",
        "id": "qCjIjgaDsWFx",
        "colab": {
          "base_uri": "https://localhost:8080/",
          "height": 313
        },
        "outputId": "82ca07b6-89a2-46d1-f04c-5ec171bff931"
      },
      "source": [
        "### START YOUR CODE HERE ###\n",
        "fpr, tpr, thresholds = roc_curve(y_train, y_train_pred_new)\n",
        "\n",
        "plt.plot(fpr, tpr)\n",
        "plt.xlim([0.0, 1.0])\n",
        "plt.ylim([0.0, 1.0])\n",
        "plt.rcParams['font.size'] = 12\n",
        "plt.title('ROC curve for survival classifier')\n",
        "plt.xlabel('False Positive Rate (1 - Specificity)')\n",
        "plt.ylabel('True Positive Rate (Sensitivity)')\n",
        "plt.grid(True)\n",
        "\n",
        "auc = roc_auc_score(y_train,y_train_pred_new)\n",
        "print(auc)\n",
        "### END YOUR CODE HERE ###"
      ],
      "execution_count": null,
      "outputs": [
        {
          "output_type": "stream",
          "text": [
            "0.8539276485788112\n"
          ],
          "name": "stdout"
        },
        {
          "output_type": "display_data",
          "data": {
            "image/png": "[encoded data removed]",
            "text/plain": [
              "<Figure size 432x288 with 1 Axes>"
            ]
          },
          "metadata": {
            "tags": [],
            "needs_background": "light"
          }
        }
      ]
    },
    {
      "cell_type": "markdown",
      "metadata": {
        "colab_type": "text",
        "id": "QrWt7R9nlSsP"
      },
      "source": [
        "**Question 10** (2 marks)\n",
        "\n",
        "Tune your model to find the best performing model. (Hint: you can ALSO try different solver for LogisticRegression)"
      ]
    },
    {
      "cell_type": "code",
      "metadata": {
        "colab_type": "code",
        "id": "xpWh6RGvlSsP",
        "colab": {
          "base_uri": "https://localhost:8080/",
          "height": 1000
        },
        "outputId": "75d0fc12-0c1f-4e76-cac4-782c484bd7d3"
      },
      "source": [
        "### START YOUR CODE HERE ###\n",
        "from sklearn.model_selection import GridSearchCV\n",
        "from sklearn.metrics import make_scorer, accuracy_score\n",
        "\n",
        "param_grid = [{'penalty' : ['l1', 'l2'], 'C' : np.logspace(-4, 4, 20), 'solver' : ['liblinear','saga']}]\n",
        "lg_clf = GridSearchCV(LogisticRegression(), param_grid, cv=5, scoring='roc_auc')\n",
        "lg_clf.fit(X_train, y_train)\n",
        "\n",
        "lg_clf.best_params_, lg_clf.best_score_\n",
        "### END YOUR CODE HERE ###"
      ],
      "execution_count": null,
      "outputs": [
        {
          "output_type": "stream",
          "text": [
            "/usr/local/lib/python3.6/dist-packages/sklearn/linear_model/_sag.py:330: ConvergenceWarning: The max_iter was reached which means the coef_ did not converge\n",
            "  \"the coef_ did not converge\", ConvergenceWarning)\n",
            "/usr/local/lib/python3.6/dist-packages/sklearn/linear_model/_sag.py:330: ConvergenceWarning: The max_iter was reached which means the coef_ did not converge\n",
            "  \"the coef_ did not converge\", ConvergenceWarning)\n",
            "/usr/local/lib/python3.6/dist-packages/sklearn/linear_model/_sag.py:330: ConvergenceWarning: The max_iter was reached which means the coef_ did not converge\n",
            "  \"the coef_ did not converge\", ConvergenceWarning)\n",
            "/usr/local/lib/python3.6/dist-packages/sklearn/linear_model/_sag.py:330: ConvergenceWarning: The max_iter was reached which means the coef_ did not converge\n",
            "  \"the coef_ did not converge\", ConvergenceWarning)\n",
            "/usr/local/lib/python3.6/dist-packages/sklearn/linear_model/_sag.py:330: ConvergenceWarning: The max_iter was reached which means the coef_ did not converge\n",
            "  \"the coef_ did not converge\", ConvergenceWarning)\n",
            "/usr/local/lib/python3.6/dist-packages/sklearn/linear_model/_sag.py:330: ConvergenceWarning: The max_iter was reached which means the coef_ did not converge\n",
            "  \"the coef_ did not converge\", ConvergenceWarning)\n",
            "/usr/local/lib/python3.6/dist-packages/sklearn/linear_model/_sag.py:330: ConvergenceWarning: The max_iter was reached which means the coef_ did not converge\n",
            "  \"the coef_ did not converge\", ConvergenceWarning)\n",
            "/usr/local/lib/python3.6/dist-packages/sklearn/linear_model/_sag.py:330: ConvergenceWarning: The max_iter was reached which means the coef_ did not converge\n",
            "  \"the coef_ did not converge\", ConvergenceWarning)\n",
            "/usr/local/lib/python3.6/dist-packages/sklearn/linear_model/_sag.py:330: ConvergenceWarning: The max_iter was reached which means the coef_ did not converge\n",
            "  \"the coef_ did not converge\", ConvergenceWarning)\n",
            "/usr/local/lib/python3.6/dist-packages/sklearn/linear_model/_sag.py:330: ConvergenceWarning: The max_iter was reached which means the coef_ did not converge\n",
            "  \"the coef_ did not converge\", ConvergenceWarning)\n",
            "/usr/local/lib/python3.6/dist-packages/sklearn/linear_model/_sag.py:330: ConvergenceWarning: The max_iter was reached which means the coef_ did not converge\n",
            "  \"the coef_ did not converge\", ConvergenceWarning)\n",
            "/usr/local/lib/python3.6/dist-packages/sklearn/linear_model/_sag.py:330: ConvergenceWarning: The max_iter was reached which means the coef_ did not converge\n",
            "  \"the coef_ did not converge\", ConvergenceWarning)\n",
            "/usr/local/lib/python3.6/dist-packages/sklearn/linear_model/_sag.py:330: ConvergenceWarning: The max_iter was reached which means the coef_ did not converge\n",
            "  \"the coef_ did not converge\", ConvergenceWarning)\n",
            "/usr/local/lib/python3.6/dist-packages/sklearn/linear_model/_sag.py:330: ConvergenceWarning: The max_iter was reached which means the coef_ did not converge\n",
            "  \"the coef_ did not converge\", ConvergenceWarning)\n",
            "/usr/local/lib/python3.6/dist-packages/sklearn/linear_model/_sag.py:330: ConvergenceWarning: The max_iter was reached which means the coef_ did not converge\n",
            "  \"the coef_ did not converge\", ConvergenceWarning)\n",
            "/usr/local/lib/python3.6/dist-packages/sklearn/linear_model/_sag.py:330: ConvergenceWarning: The max_iter was reached which means the coef_ did not converge\n",
            "  \"the coef_ did not converge\", ConvergenceWarning)\n",
            "/usr/local/lib/python3.6/dist-packages/sklearn/linear_model/_sag.py:330: ConvergenceWarning: The max_iter was reached which means the coef_ did not converge\n",
            "  \"the coef_ did not converge\", ConvergenceWarning)\n",
            "/usr/local/lib/python3.6/dist-packages/sklearn/linear_model/_sag.py:330: ConvergenceWarning: The max_iter was reached which means the coef_ did not converge\n",
            "  \"the coef_ did not converge\", ConvergenceWarning)\n",
            "/usr/local/lib/python3.6/dist-packages/sklearn/linear_model/_sag.py:330: ConvergenceWarning: The max_iter was reached which means the coef_ did not converge\n",
            "  \"the coef_ did not converge\", ConvergenceWarning)\n",
            "/usr/local/lib/python3.6/dist-packages/sklearn/linear_model/_sag.py:330: ConvergenceWarning: The max_iter was reached which means the coef_ did not converge\n",
            "  \"the coef_ did not converge\", ConvergenceWarning)\n",
            "/usr/local/lib/python3.6/dist-packages/sklearn/linear_model/_sag.py:330: ConvergenceWarning: The max_iter was reached which means the coef_ did not converge\n",
            "  \"the coef_ did not converge\", ConvergenceWarning)\n",
            "/usr/local/lib/python3.6/dist-packages/sklearn/linear_model/_sag.py:330: ConvergenceWarning: The max_iter was reached which means the coef_ did not converge\n",
            "  \"the coef_ did not converge\", ConvergenceWarning)\n",
            "/usr/local/lib/python3.6/dist-packages/sklearn/linear_model/_sag.py:330: ConvergenceWarning: The max_iter was reached which means the coef_ did not converge\n",
            "  \"the coef_ did not converge\", ConvergenceWarning)\n",
            "/usr/local/lib/python3.6/dist-packages/sklearn/linear_model/_sag.py:330: ConvergenceWarning: The max_iter was reached which means the coef_ did not converge\n",
            "  \"the coef_ did not converge\", ConvergenceWarning)\n",
            "/usr/local/lib/python3.6/dist-packages/sklearn/linear_model/_sag.py:330: ConvergenceWarning: The max_iter was reached which means the coef_ did not converge\n",
            "  \"the coef_ did not converge\", ConvergenceWarning)\n",
            "/usr/local/lib/python3.6/dist-packages/sklearn/linear_model/_sag.py:330: ConvergenceWarning: The max_iter was reached which means the coef_ did not converge\n",
            "  \"the coef_ did not converge\", ConvergenceWarning)\n",
            "/usr/local/lib/python3.6/dist-packages/sklearn/linear_model/_sag.py:330: ConvergenceWarning: The max_iter was reached which means the coef_ did not converge\n",
            "  \"the coef_ did not converge\", ConvergenceWarning)\n",
            "/usr/local/lib/python3.6/dist-packages/sklearn/linear_model/_sag.py:330: ConvergenceWarning: The max_iter was reached which means the coef_ did not converge\n",
            "  \"the coef_ did not converge\", ConvergenceWarning)\n",
            "/usr/local/lib/python3.6/dist-packages/sklearn/linear_model/_sag.py:330: ConvergenceWarning: The max_iter was reached which means the coef_ did not converge\n",
            "  \"the coef_ did not converge\", ConvergenceWarning)\n",
            "/usr/local/lib/python3.6/dist-packages/sklearn/linear_model/_sag.py:330: ConvergenceWarning: The max_iter was reached which means the coef_ did not converge\n",
            "  \"the coef_ did not converge\", ConvergenceWarning)\n",
            "/usr/local/lib/python3.6/dist-packages/sklearn/linear_model/_sag.py:330: ConvergenceWarning: The max_iter was reached which means the coef_ did not converge\n",
            "  \"the coef_ did not converge\", ConvergenceWarning)\n",
            "/usr/local/lib/python3.6/dist-packages/sklearn/linear_model/_sag.py:330: ConvergenceWarning: The max_iter was reached which means the coef_ did not converge\n",
            "  \"the coef_ did not converge\", ConvergenceWarning)\n",
            "/usr/local/lib/python3.6/dist-packages/sklearn/linear_model/_sag.py:330: ConvergenceWarning: The max_iter was reached which means the coef_ did not converge\n",
            "  \"the coef_ did not converge\", ConvergenceWarning)\n",
            "/usr/local/lib/python3.6/dist-packages/sklearn/linear_model/_sag.py:330: ConvergenceWarning: The max_iter was reached which means the coef_ did not converge\n",
            "  \"the coef_ did not converge\", ConvergenceWarning)\n",
            "/usr/local/lib/python3.6/dist-packages/sklearn/linear_model/_sag.py:330: ConvergenceWarning: The max_iter was reached which means the coef_ did not converge\n",
            "  \"the coef_ did not converge\", ConvergenceWarning)\n"
          ],
          "name": "stderr"
        },
        {
          "output_type": "execute_result",
          "data": {
            "text/plain": [
              "({'C': 1.623776739188721, 'penalty': 'l1', 'solver': 'liblinear'},\n",
              " 0.860771526001705)"
            ]
          },
          "metadata": {
            "tags": []
          },
          "execution_count": 18
        }
      ]
    },
    {
      "cell_type": "markdown",
      "metadata": {
        "colab_type": "text",
        "id": "rudZ4ay6F7I3"
      },
      "source": [
        "**Question 11** (1 marks) \n",
        "\n",
        "Assume you are satisfied with your model. Now test your model on the test set. \n",
        "\n",
        "1. Calculate your test accuracy \n",
        "2. Calculate your train accuracy\n",
        "\n",
        "Write your code in the following code cell.\n"
      ]
    },
    {
      "cell_type": "code",
      "metadata": {
        "colab_type": "code",
        "id": "CbLpOYksleME",
        "colab": {
          "base_uri": "https://localhost:8080/",
          "height": 52
        },
        "outputId": "f974b7e2-755d-4f94-ccb8-cfeed3fba909"
      },
      "source": [
        "### START YOUR CODE HERE ###\n",
        "from sklearn.metrics import accuracy_score\n",
        "# lr = LogisticRegression(penalty = 'l1', c=1.623776739188721, solver = 'liblinear', solver = 'liblinear', random_state = 42)\n",
        "# lr.fit(X_train, y_train)\n",
        "# lr.predict(X_test)\n",
        "\n",
        "# Test accuracy\n",
        "test_predictions = lg_clf.best_estimator_.predict(X_test)\n",
        "test_accuracy = accuracy_score(y_test, test_predictions)\n",
        "print(test_accuracy)\n",
        "\n",
        "# Train accuracy\n",
        "train_predictions = lg_clf.best_estimator_.predict(X_train)\n",
        "train_accuracy = accuracy_score(y_train, train_predictions)\n",
        "print(train_accuracy)\n",
        "\n",
        "### END YOUR CODE HERE ### "
      ],
      "execution_count": null,
      "outputs": [
        {
          "output_type": "stream",
          "text": [
            "0.8041958041958042\n",
            "0.7978910369068541\n"
          ],
          "name": "stdout"
        }
      ]
    },
    {
      "cell_type": "markdown",
      "metadata": {
        "colab_type": "text",
        "id": "ApXdAGpMlSsT"
      },
      "source": [
        "**Question 12** (1 mark)\n",
        "\n",
        "Determine if the model is overfitting. Justify your answer.\n",
        "\n",
        "You can write your answer in the following markdown cell."
      ]
    },
    {
      "cell_type": "code",
      "metadata": {
        "id": "N3v83YyVsYyY",
        "colab_type": "code",
        "colab": {
          "base_uri": "https://localhost:8080/",
          "height": 320
        },
        "outputId": "7dab5491-e79f-4c6e-b2d3-83d62953ea44"
      },
      "source": [
        "#Learning curve\n",
        "from sklearn.model_selection import learning_curve\n",
        "from sklearn.model_selection import ShuffleSplit\n",
        "from sklearn.model_selection import cross_val_predict\n",
        "from sklearn.model_selection import validation_curve\n",
        "\n",
        "cv = ShuffleSplit(n_splits=100, test_size=0.2, random_state=42)\n",
        "\n",
        "# Learning curve\n",
        "def Learning_curve_model(X, Y, model, cv, train_sizes):\n",
        "\n",
        "    plt.figure()\n",
        "    plt.title(\"Learning curve\")\n",
        "    plt.xlabel(\"Training examples\")\n",
        "    plt.ylabel(\"Score\")\n",
        "\n",
        "\n",
        "    train_sizes, train_scores, test_scores = learning_curve(model, X, Y, cv=cv, n_jobs=4, train_sizes=train_sizes)\n",
        "\n",
        "    train_scores_mean = np.mean(train_scores, axis=1)\n",
        "    train_scores_std  = np.std(train_scores, axis=1)\n",
        "    test_scores_mean  = np.mean(test_scores, axis=1)\n",
        "    test_scores_std   = np.std(test_scores, axis=1)\n",
        "    plt.grid()\n",
        "    \n",
        "    plt.fill_between(train_sizes, train_scores_mean - train_scores_std,train_scores_mean + train_scores_std, alpha=0.1,\n",
        "                     color=\"r\")\n",
        "    plt.fill_between(train_sizes, test_scores_mean - test_scores_std,test_scores_mean + test_scores_std, alpha=0.1, color=\"g\")\n",
        "    plt.plot(train_sizes, train_scores_mean, 'o-', color=\"r\",label=\"Training score\")\n",
        "    plt.plot(train_sizes, test_scores_mean, 'o-', color=\"g\",label=\"Cross-validation score\")\n",
        "                     \n",
        "    plt.legend(loc=\"best\")\n",
        "    return plt\n",
        "\n",
        "#learn curve\n",
        "logreg  = LogisticRegression(penalty = 'l1', C=1.623776739188721, solver = 'liblinear', random_state = 42)\n",
        "train_size=np.linspace(.1, 1.0, 15)\n",
        "Learning_curve_model(X_train, y_train, logreg, cv, train_size)"
      ],
      "execution_count": null,
      "outputs": [
        {
          "output_type": "execute_result",
          "data": {
            "text/plain": [
              "<module 'matplotlib.pyplot' from '/usr/local/lib/python3.6/dist-packages/matplotlib/pyplot.py'>"
            ]
          },
          "metadata": {
            "tags": []
          },
          "execution_count": 28
        },
        {
          "output_type": "display_data",
          "data": {
            "image/png": "[encoded data removed]",
            "text/plain": [
              "<Figure size 432x288 with 1 Axes>"
            ]
          },
          "metadata": {
            "tags": [],
            "needs_background": "light"
          }
        }
      ]
    },
    {
      "cell_type": "markdown",
      "metadata": {
        "colab_type": "text",
        "id": "_anf-vSmlSsT"
      },
      "source": [
        "**Answer:** \n",
        "Based on the learning curve, the model has a good bias variance tradeoff and hence it is not overfitting"
      ]
    },
    {
      "cell_type": "markdown",
      "metadata": {
        "colab_type": "text",
        "id": "SiMF78QTlSsT"
      },
      "source": [
        "**Question 13 (Bonus Question)** (1 marks)\n",
        "\n",
        "Which one of the features is the most impotant in determining the survival rate?  (Pclass, Age, SibSp, Parch, Fare, Sex, Embarkment). Write your answer in the markdown cell.  You can show your code on how to obtain the answer in the code \n",
        "cell below\n",
        "\n",
        "**Answer**"
      ]
    },
    {
      "cell_type": "markdown",
      "metadata": {
        "id": "d21oncfBaDRg",
        "colab_type": "text"
      },
      "source": [
        "Feedback from Mr Mar:\n",
        "Q13. It is difficult to look at the visualization and tells which is the most important factor. A numerical comparisons would be better, e.g. look at the values of coeffs."
      ]
    },
    {
      "cell_type": "code",
      "metadata": {
        "colab_type": "code",
        "id": "LyH0TykAlSsU",
        "colab": {
          "base_uri": "https://localhost:8080/",
          "height": 1000
        },
        "outputId": "26c1c804-a298-4669-efaf-a30c04c45eea"
      },
      "source": [
        "### START YOUR CODE HERE ###\n",
        "import seaborn as sns\n",
        "df = df.copy()\n",
        "\n",
        "# Color map for visualization\n",
        "survival_palette = {0: \"blue\", 1: \"yellow\"} \n",
        "\n",
        "# Class vs survival\n",
        "cat_plot(df, 'Class','Survived', survival_palette)\n",
        "\n",
        "# Age vs survival\n",
        "age_set_no_nan = df[['Age','Survived']].copy().dropna(axis=0)\n",
        "cont_plot(age_set_nonan, 'Age', 'Survived', survival_palette, [1, 0], range(0,100,10))\n",
        "\n",
        "#NoSiblingSpouse vs Survival\n",
        "cat_plot(df, 'NoSiblingSpouse', 'Survived', survival_palette)\n",
        "\n",
        "\n",
        "#NoParentsChildren vs Survival\n",
        "cat_plot(df, 'NoParentsChildren','Survived', survival_palette)\n",
        "\n",
        "#Fare vs Survival\n",
        "fare_set = df[['Fare','Survived']].copy() \n",
        "cont_plot(fare_set, 'Fare', 'Survived', survival_palette, [1, 0], range(0,550,50))\n",
        "\n",
        "#Sex vs Survival\n",
        "cat_plot(df, 'Sex','Survived', survival_palette)\n",
        "\n",
        "\n",
        "#Embarkment vs Survival\n",
        "cat_plot(df, 'EmbarkationPort','Survived', survival_palette)\n",
        "\n",
        "\n",
        "### END YOUR CODE HERE ###"
      ],
      "execution_count": null,
      "outputs": [
        {
          "output_type": "display_data",
          "data": {
            "image/png": "[encoded data removed]",
            "text/plain": [
              "<Figure size 720x360 with 2 Axes>"
            ]
          },
          "metadata": {
            "tags": [],
            "needs_background": "light"
          }
        },
        {
          "output_type": "display_data",
          "data": {
            "image/png": "[encoded data removed]",
            "text/plain": [
              "<Figure size 720x360 with 2 Axes>"
            ]
          },
          "metadata": {
            "tags": [],
            "needs_background": "light"
          }
        },
        {
          "output_type": "display_data",
          "data": {
            "image/png": "[encoded data removed]",
            "text/plain": [
              "<Figure size 720x360 with 2 Axes>"
            ]
          },
          "metadata": {
            "tags": [],
            "needs_background": "light"
          }
        },
        {
          "output_type": "display_data",
          "data": {
            "image/png": "[encoded data removed]",
            "text/plain": [
              "<Figure size 720x360 with 2 Axes>"
            ]
          },
          "metadata": {
            "tags": [],
            "needs_background": "light"
          }
        },
        {
          "output_type": "display_data",
          "data": {
            "image/png": "[encoded data removed]",
            "text/plain": [
              "<Figure size 720x360 with 2 Axes>"
            ]
          },
          "metadata": {
            "tags": [],
            "needs_background": "light"
          }
        },
        {
          "output_type": "display_data",
          "data": {
            "image/png": "[encoded data removed]",
            "text/plain": [
              "<Figure size 720x360 with 2 Axes>"
            ]
          },
          "metadata": {
            "tags": [],
            "needs_background": "light"
          }
        },
        {
          "output_type": "display_data",
          "data": {
            "image/png": "[encoded data removed]",
            "text/plain": [
              "<Figure size 720x360 with 2 Axes>"
            ]
          },
          "metadata": {
            "tags": [],
            "needs_background": "light"
          }
        }
      ]
    },
    {
      "cell_type": "markdown",
      "metadata": {
        "id": "XO5Z2InTivgO",
        "colab_type": "text"
      },
      "source": [
        "##Answer\n",
        "\n",
        "Looking at the first graph, \n",
        "\n",
        "Class vs Survival, we can observed that class 1 has higher survival rate despite only taking up 24.2% of the total and hence it shows class is an important feature that cannot be disregarded\n",
        "\n",
        "Next, let's look at Age Vs Survival.\n",
        "Majority of the passengers were around their 20's. We can see that there are more survivors below the age of 20 and there are more people who did not survived between the age of 20 to 40 and it seems like anyone above the age of 70 would not have any chances of survival. Therefore the age seems to play a part in determining your chances of survival \n",
        "\n",
        "Then, lets take a look if having sibling and spouse do affect your survival chances. From the graph it appears that people with 1 siblings have a higher chance of survival but and for the graph on NoParents child vs survival , it seems to be the same as well.So having 1 sibling or lesser parents/child has a\n",
        "higher chance of survivor\n",
        "\n",
        "Now, lets look at the fare vs survival. \n",
        "It appears that there were more survivors on the first part of graph on Fare less than 10. Numbers of person who died peak at around Fare 15 to 35 and gradually reduce as Fare goes higher. This shows that there could be a possibility that paying more increases chances or survival\n",
        "\n",
        "gender vs survival plot shows that female has a higher chance of survival as compared to male and hence Sex is a important feature\n",
        "\n",
        "The embarkation port shows that people who embarked on Port C has a higher suvival rate\n",
        "\n",
        "After looking at the above graph, it appears that Sex and Age seems to be the most important feature as we know that in an emergency like this, we will tend to help the woman and child to get to safety first. So being young and being a female will greatly increase chances of survival\n"
      ]
    },
    {
      "cell_type": "code",
      "metadata": {
        "id": "Wo-YZeWXnKS2",
        "colab_type": "code",
        "colab": {}
      },
      "source": [
        ""
      ],
      "execution_count": null,
      "outputs": []
    }
  ]
}