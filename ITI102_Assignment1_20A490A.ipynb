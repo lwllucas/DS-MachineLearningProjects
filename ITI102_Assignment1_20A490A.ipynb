{
  "nbformat": 4,
  "nbformat_minor": 0,
  "metadata": {
    "kernelspec": {
      "display_name": "Python 3",
      "language": "python",
      "name": "python3"
    },
    "language_info": {
      "codemirror_mode": {
        "name": "ipython",
        "version": 3
      },
      "file_extension": ".py",
      "mimetype": "text/x-python",
      "name": "python",
      "nbconvert_exporter": "python",
      "pygments_lexer": "ipython3",
      "version": "3.6.5"
    },
    "colab": {
      "name": "ITI102_Assignment1_20A490A.ipynb",
      "provenance": [],
      "collapsed_sections": [],
      "include_colab_link": true
    }
  },
  "cells": [
    {
      "cell_type": "markdown",
      "metadata": {
        "id": "view-in-github",
        "colab_type": "text"
      },
      "source": [
        "<a href=\"https://colab.research.google.com/github/lwllucas/DS-MachineLearningProjects/blob/master/ITI102_Assignment1_20A490A.ipynb\" target=\"_parent\"><img src=\"https://colab.research.google.com/assets/colab-badge.svg\" alt=\"Open In Colab\"/></a>"
      ]
    },
    {
      "cell_type": "markdown",
      "metadata": {
        "id": "wse8vWWRD0K5",
        "colab_type": "text"
      },
      "source": [
        "# **Data Science ITI102 20S1 Assignment 1 Question**\n",
        "##Smartphone Application Dataset Analysis\n",
        "\n",
        "\n",
        "\n",
        "```\n",
        "Name: Lim Wei Le Lucas\n",
        "Admin no: 20A490A\n",
        "```\n",
        "\n"
      ]
    },
    {
      "cell_type": "markdown",
      "metadata": {
        "id": "3lh7DlB8D0K8",
        "colab_type": "text"
      },
      "source": [
        "## In this Notebook, we are going to analyse the dataset for Smartphone Application\n",
        "\n",
        "You are given a csv file 'dataset.csv' with all the data    \n",
        "There are 13 columns in the csv file.    \n",
        "The first row is the header.    \n",
        "Following are the description for each column\n",
        "\n",
        "1.App\t\n",
        "2.Category   \n",
        "3.Rating  \n",
        "4.Reviews\t\n",
        "5.Size\t\n",
        "6.Installs\t\n",
        "7.Type\t\n",
        "8.Price\t\n",
        "9.Content Rating\t\n",
        "10.Genres\t\n",
        "11.Last Updated\t\n",
        "12.Current Ver\t\n",
        "13.Android Ver\n",
        "\n",
        "\n",
        "\n"
      ]
    },
    {
      "cell_type": "markdown",
      "metadata": {
        "id": "1xIPH2cUD0K9",
        "colab_type": "text"
      },
      "source": [
        "### The series of steps to follow :\n",
        "> #### 1. Import Packages\n",
        "> #### 2. Read Data\n",
        "> #### 3. Data Preprocessing\n",
        "    > #### -  3.1 Handling NULL or Duplicate Values\n",
        "    > #### -  3.2 Handling Data Types and Values\n",
        "> #### 4. Analyzing Features\n",
        "> #### 5. Further Analysis\n",
        "\n",
        "**Read the requirement at TODO**  \n",
        "**Then complete in the code cell follow** #add code\n"
      ]
    },
    {
      "cell_type": "markdown",
      "metadata": {
        "id": "GF0JX8yLD0K9",
        "colab_type": "text"
      },
      "source": [
        "<a id='1'></a>\n",
        "## 1. Importing the required packages"
      ]
    },
    {
      "cell_type": "markdown",
      "metadata": {
        "id": "qyELf4X1Ipfm",
        "colab_type": "text"
      },
      "source": [
        "TODO:  Add the module required (0.5 mark)    \n",
        "Here are some of the modules that you require.\n",
        "\n",
        "Add all the modules that you require for the subsequence steps.\n",
        "\n",
        "Modules must be added in this section."
      ]
    },
    {
      "cell_type": "code",
      "metadata": {
        "id": "cf7QDAWgD0K-",
        "colab_type": "code",
        "colab": {
          "base_uri": "https://localhost:8080/",
          "height": 71
        },
        "outputId": "b879b65b-c49d-4b03-9e27-39c9e50a9a74"
      },
      "source": [
        "import matplotlib.pyplot as plt\n",
        "import seaborn as sns\n",
        "#To hide Warning messages.\n",
        "import warnings\n",
        "warnings.filterwarnings('ignore')\n",
        "\n",
        "#Add code \n",
        "#add module here\n",
        "import pandas as pd\n",
        "import numpy as np\n",
        "from google.colab import drive\n"
      ],
      "execution_count": null,
      "outputs": [
        {
          "output_type": "stream",
          "text": [
            "/usr/local/lib/python3.6/dist-packages/statsmodels/tools/_testing.py:19: FutureWarning: pandas.util.testing is deprecated. Use the functions in the public API at pandas.testing instead.\n",
            "  import pandas.util.testing as tm\n"
          ],
          "name": "stderr"
        }
      ]
    },
    {
      "cell_type": "markdown",
      "metadata": {
        "id": "TZQaKg8NsDfl",
        "colab_type": "text"
      },
      "source": [
        "TODO:   Mount drive in colab (0.5 mark)    \n",
        "create dir in google drive  '/content/drive/My Drive/Data/  DSA1/'      \n",
        "Copy file 'dataset.csv' into dir '/content/drive/My Drive/Data/  DSA1/'      "
      ]
    },
    {
      "cell_type": "code",
      "metadata": {
        "id": "s-oUZ8EbD5nT",
        "colab_type": "code",
        "colab": {
          "base_uri": "https://localhost:8080/",
          "height": 34
        },
        "outputId": "9d2609de-9e55-41ed-817a-07ed67871ef1"
      },
      "source": [
        "#Add code\n",
        "drive.mount('/content/drive')\n",
        "data_dir_path='/content/drive/My Drive/Data/DSA1/'\n"
      ],
      "execution_count": null,
      "outputs": [
        {
          "output_type": "stream",
          "text": [
            "Drive already mounted at /content/drive; to attempt to forcibly remount, call drive.mount(\"/content/drive\", force_remount=True).\n"
          ],
          "name": "stdout"
        }
      ]
    },
    {
      "cell_type": "code",
      "metadata": {
        "id": "nypxKDArqzrE",
        "colab_type": "code",
        "colab": {
          "base_uri": "https://localhost:8080/",
          "height": 34
        },
        "outputId": "98c78a69-4a66-49a7-c567-7a0e547c3ed8"
      },
      "source": [
        "!ls 'drive/My Drive/Data/DSA1/'"
      ],
      "execution_count": null,
      "outputs": [
        {
          "output_type": "stream",
          "text": [
            "dataset.csv\n"
          ],
          "name": "stdout"
        }
      ]
    },
    {
      "cell_type": "markdown",
      "metadata": {
        "id": "ZOPxB_dLD0LC",
        "colab_type": "text"
      },
      "source": [
        "***"
      ]
    },
    {
      "cell_type": "markdown",
      "metadata": {
        "id": "jr-tdc_HD0LD",
        "colab_type": "text"
      },
      "source": [
        "<a id='2'></a>\n",
        "## 2.  Reading Data\n",
        "TODO: Use pandas to read in the dataset and display the first 5 row of data (1 mark)  \n"
      ]
    },
    {
      "cell_type": "code",
      "metadata": {
        "id": "3qeP7hW_D0LE",
        "colab_type": "code",
        "colab": {
          "base_uri": "https://localhost:8080/",
          "height": 340
        },
        "outputId": "218e4cfb-968f-4e37-fb96-d58067b2443b"
      },
      "source": [
        "#read in the csv file 'dataset.csv'\n",
        "#display the first 5 rows of data\n",
        "\n",
        "#Add code here  \n",
        "df = pd.read_csv(data_dir_path+'dataset.csv')\n",
        "df.head()"
      ],
      "execution_count": null,
      "outputs": [
        {
          "output_type": "execute_result",
          "data": {
            "text/html": [
              "<div>\n",
              "<style scoped>\n",
              "    .dataframe tbody tr th:only-of-type {\n",
              "        vertical-align: middle;\n",
              "    }\n",
              "\n",
              "    .dataframe tbody tr th {\n",
              "        vertical-align: top;\n",
              "    }\n",
              "\n",
              "    .dataframe thead th {\n",
              "        text-align: right;\n",
              "    }\n",
              "</style>\n",
              "<table border=\"1\" class=\"dataframe\">\n",
              "  <thead>\n",
              "    <tr style=\"text-align: right;\">\n",
              "      <th></th>\n",
              "      <th>App</th>\n",
              "      <th>Category</th>\n",
              "      <th>Rating</th>\n",
              "      <th>Reviews</th>\n",
              "      <th>Size</th>\n",
              "      <th>Installs</th>\n",
              "      <th>Type</th>\n",
              "      <th>Price</th>\n",
              "      <th>Content Rating</th>\n",
              "      <th>Genres</th>\n",
              "      <th>Last Updated</th>\n",
              "      <th>Current Ver</th>\n",
              "      <th>Android Ver</th>\n",
              "    </tr>\n",
              "  </thead>\n",
              "  <tbody>\n",
              "    <tr>\n",
              "      <th>0</th>\n",
              "      <td>Photo Editor &amp; Candy Camera &amp; Grid &amp; ScrapBook</td>\n",
              "      <td>ART_AND_DESIGN</td>\n",
              "      <td>4.1</td>\n",
              "      <td>159</td>\n",
              "      <td>19M</td>\n",
              "      <td>10,000+</td>\n",
              "      <td>Free</td>\n",
              "      <td>0</td>\n",
              "      <td>Everyone</td>\n",
              "      <td>Art &amp; Design</td>\n",
              "      <td>January 7, 2018</td>\n",
              "      <td>1.0.0</td>\n",
              "      <td>4.0.3 and up</td>\n",
              "    </tr>\n",
              "    <tr>\n",
              "      <th>1</th>\n",
              "      <td>Coloring book moana</td>\n",
              "      <td>ART_AND_DESIGN</td>\n",
              "      <td>3.9</td>\n",
              "      <td>967</td>\n",
              "      <td>14M</td>\n",
              "      <td>500,000+</td>\n",
              "      <td>Free</td>\n",
              "      <td>0</td>\n",
              "      <td>Everyone</td>\n",
              "      <td>Art &amp; Design;Pretend Play</td>\n",
              "      <td>January 15, 2018</td>\n",
              "      <td>2.0.0</td>\n",
              "      <td>4.0.3 and up</td>\n",
              "    </tr>\n",
              "    <tr>\n",
              "      <th>2</th>\n",
              "      <td>U Launcher Lite – FREE Live Cool Themes, Hide ...</td>\n",
              "      <td>ART_AND_DESIGN</td>\n",
              "      <td>4.7</td>\n",
              "      <td>87510</td>\n",
              "      <td>8.7M</td>\n",
              "      <td>5,000,000+</td>\n",
              "      <td>Free</td>\n",
              "      <td>0</td>\n",
              "      <td>Everyone</td>\n",
              "      <td>Art &amp; Design</td>\n",
              "      <td>August 1, 2018</td>\n",
              "      <td>1.2.4</td>\n",
              "      <td>4.0.3 and up</td>\n",
              "    </tr>\n",
              "    <tr>\n",
              "      <th>3</th>\n",
              "      <td>Sketch - Draw &amp; Paint</td>\n",
              "      <td>ART_AND_DESIGN</td>\n",
              "      <td>4.5</td>\n",
              "      <td>215644</td>\n",
              "      <td>25M</td>\n",
              "      <td>50,000,000+</td>\n",
              "      <td>Free</td>\n",
              "      <td>0</td>\n",
              "      <td>Teen</td>\n",
              "      <td>Art &amp; Design</td>\n",
              "      <td>June 8, 2018</td>\n",
              "      <td>Varies with device</td>\n",
              "      <td>4.2 and up</td>\n",
              "    </tr>\n",
              "    <tr>\n",
              "      <th>4</th>\n",
              "      <td>Pixel Draw - Number Art Coloring Book</td>\n",
              "      <td>ART_AND_DESIGN</td>\n",
              "      <td>4.3</td>\n",
              "      <td>967</td>\n",
              "      <td>2.8M</td>\n",
              "      <td>100,000+</td>\n",
              "      <td>Free</td>\n",
              "      <td>0</td>\n",
              "      <td>Everyone</td>\n",
              "      <td>Art &amp; Design;Creativity</td>\n",
              "      <td>June 20, 2018</td>\n",
              "      <td>1.1</td>\n",
              "      <td>4.4 and up</td>\n",
              "    </tr>\n",
              "  </tbody>\n",
              "</table>\n",
              "</div>"
            ],
            "text/plain": [
              "                                                 App  ...   Android Ver\n",
              "0     Photo Editor & Candy Camera & Grid & ScrapBook  ...  4.0.3 and up\n",
              "1                                Coloring book moana  ...  4.0.3 and up\n",
              "2  U Launcher Lite – FREE Live Cool Themes, Hide ...  ...  4.0.3 and up\n",
              "3                              Sketch - Draw & Paint  ...    4.2 and up\n",
              "4              Pixel Draw - Number Art Coloring Book  ...    4.4 and up\n",
              "\n",
              "[5 rows x 13 columns]"
            ]
          },
          "metadata": {
            "tags": []
          },
          "execution_count": 4
        }
      ]
    },
    {
      "cell_type": "code",
      "metadata": {
        "id": "ToGvJKZ8vxA_",
        "colab_type": "code",
        "colab": {
          "base_uri": "https://localhost:8080/",
          "height": 34
        },
        "outputId": "d68d0829-87a1-49bd-be88-df2f7c3c8a24"
      },
      "source": [
        "df.shape"
      ],
      "execution_count": null,
      "outputs": [
        {
          "output_type": "execute_result",
          "data": {
            "text/plain": [
              "(10841, 13)"
            ]
          },
          "metadata": {
            "tags": []
          },
          "execution_count": 5
        }
      ]
    },
    {
      "cell_type": "markdown",
      "metadata": {
        "id": "hhyOgj9WD0LH",
        "colab_type": "text"
      },
      "source": [
        "***"
      ]
    },
    {
      "cell_type": "markdown",
      "metadata": {
        "id": "KDWrQ5aND0LI",
        "colab_type": "text"
      },
      "source": [
        "<a id='3.1'></a>\n",
        "\n",
        "## 3. Data Preprocessing\n",
        "\n"
      ]
    },
    {
      "cell_type": "markdown",
      "metadata": {
        "id": "sVXTOkCvydcr",
        "colab_type": "text"
      },
      "source": [
        "### 3.1 Handling NULL or Duplicate Values"
      ]
    },
    {
      "cell_type": "markdown",
      "metadata": {
        "id": "DOQWNUqXD0LJ",
        "colab_type": "text"
      },
      "source": [
        "#### This is a very crucial step in every analysis and model. \n",
        "\n",
        "This step will improves the accuracy of insights and predictions.   \n",
        "\n",
        "TODO:  Drop all rows with NULL values (1 mark)"
      ]
    },
    {
      "cell_type": "code",
      "metadata": {
        "id": "eaxu7acQD0LK",
        "colab_type": "code",
        "colab": {
          "base_uri": "https://localhost:8080/",
          "height": 34
        },
        "outputId": "e80ed3d9-879f-45c6-a2af-1d5cc38dc724"
      },
      "source": [
        "\n",
        "#Add code here\n",
        "#add code:print sum in df contain null\n",
        "df.isna().sum()\n",
        "# df.isnull().sum(axis = 0) # For older version of pandas\n",
        "\n",
        "#add code:In df remove rows with null value\n",
        "df = df.dropna()\n",
        "\n",
        "#add code:display result df first 5 rows\n",
        "df.shape"
      ],
      "execution_count": null,
      "outputs": [
        {
          "output_type": "execute_result",
          "data": {
            "text/plain": [
              "(9360, 13)"
            ]
          },
          "metadata": {
            "tags": []
          },
          "execution_count": 6
        }
      ]
    },
    {
      "cell_type": "markdown",
      "metadata": {
        "id": "7eXlLvFHD0LM",
        "colab_type": "text"
      },
      "source": [
        "#### There are also duplicates in the dataset\n",
        "TODO: Remove the duplicated entries in the dataset (1 mark)\n",
        "\n",
        "\n"
      ]
    },
    {
      "cell_type": "code",
      "metadata": {
        "id": "3IdV9KXUD0LO",
        "colab_type": "code",
        "colab": {
          "base_uri": "https://localhost:8080/",
          "height": 827
        },
        "outputId": "0620f988-7c25-4fe2-8ed9-e219cf56128e"
      },
      "source": [
        "#add code here\n",
        "df.sort_values(\"App\", ascending= False)\n",
        "#add code:In df remove duplicate rows\n",
        "df = df.drop_duplicates() \n",
        "\n",
        "#add code:display df\n",
        "df\n"
      ],
      "execution_count": null,
      "outputs": [
        {
          "output_type": "execute_result",
          "data": {
            "text/html": [
              "<div>\n",
              "<style scoped>\n",
              "    .dataframe tbody tr th:only-of-type {\n",
              "        vertical-align: middle;\n",
              "    }\n",
              "\n",
              "    .dataframe tbody tr th {\n",
              "        vertical-align: top;\n",
              "    }\n",
              "\n",
              "    .dataframe thead th {\n",
              "        text-align: right;\n",
              "    }\n",
              "</style>\n",
              "<table border=\"1\" class=\"dataframe\">\n",
              "  <thead>\n",
              "    <tr style=\"text-align: right;\">\n",
              "      <th></th>\n",
              "      <th>App</th>\n",
              "      <th>Category</th>\n",
              "      <th>Rating</th>\n",
              "      <th>Reviews</th>\n",
              "      <th>Size</th>\n",
              "      <th>Installs</th>\n",
              "      <th>Type</th>\n",
              "      <th>Price</th>\n",
              "      <th>Content Rating</th>\n",
              "      <th>Genres</th>\n",
              "      <th>Last Updated</th>\n",
              "      <th>Current Ver</th>\n",
              "      <th>Android Ver</th>\n",
              "    </tr>\n",
              "  </thead>\n",
              "  <tbody>\n",
              "    <tr>\n",
              "      <th>0</th>\n",
              "      <td>Photo Editor &amp; Candy Camera &amp; Grid &amp; ScrapBook</td>\n",
              "      <td>ART_AND_DESIGN</td>\n",
              "      <td>4.1</td>\n",
              "      <td>159</td>\n",
              "      <td>19M</td>\n",
              "      <td>10,000+</td>\n",
              "      <td>Free</td>\n",
              "      <td>0</td>\n",
              "      <td>Everyone</td>\n",
              "      <td>Art &amp; Design</td>\n",
              "      <td>January 7, 2018</td>\n",
              "      <td>1.0.0</td>\n",
              "      <td>4.0.3 and up</td>\n",
              "    </tr>\n",
              "    <tr>\n",
              "      <th>1</th>\n",
              "      <td>Coloring book moana</td>\n",
              "      <td>ART_AND_DESIGN</td>\n",
              "      <td>3.9</td>\n",
              "      <td>967</td>\n",
              "      <td>14M</td>\n",
              "      <td>500,000+</td>\n",
              "      <td>Free</td>\n",
              "      <td>0</td>\n",
              "      <td>Everyone</td>\n",
              "      <td>Art &amp; Design;Pretend Play</td>\n",
              "      <td>January 15, 2018</td>\n",
              "      <td>2.0.0</td>\n",
              "      <td>4.0.3 and up</td>\n",
              "    </tr>\n",
              "    <tr>\n",
              "      <th>2</th>\n",
              "      <td>U Launcher Lite – FREE Live Cool Themes, Hide ...</td>\n",
              "      <td>ART_AND_DESIGN</td>\n",
              "      <td>4.7</td>\n",
              "      <td>87510</td>\n",
              "      <td>8.7M</td>\n",
              "      <td>5,000,000+</td>\n",
              "      <td>Free</td>\n",
              "      <td>0</td>\n",
              "      <td>Everyone</td>\n",
              "      <td>Art &amp; Design</td>\n",
              "      <td>August 1, 2018</td>\n",
              "      <td>1.2.4</td>\n",
              "      <td>4.0.3 and up</td>\n",
              "    </tr>\n",
              "    <tr>\n",
              "      <th>3</th>\n",
              "      <td>Sketch - Draw &amp; Paint</td>\n",
              "      <td>ART_AND_DESIGN</td>\n",
              "      <td>4.5</td>\n",
              "      <td>215644</td>\n",
              "      <td>25M</td>\n",
              "      <td>50,000,000+</td>\n",
              "      <td>Free</td>\n",
              "      <td>0</td>\n",
              "      <td>Teen</td>\n",
              "      <td>Art &amp; Design</td>\n",
              "      <td>June 8, 2018</td>\n",
              "      <td>Varies with device</td>\n",
              "      <td>4.2 and up</td>\n",
              "    </tr>\n",
              "    <tr>\n",
              "      <th>4</th>\n",
              "      <td>Pixel Draw - Number Art Coloring Book</td>\n",
              "      <td>ART_AND_DESIGN</td>\n",
              "      <td>4.3</td>\n",
              "      <td>967</td>\n",
              "      <td>2.8M</td>\n",
              "      <td>100,000+</td>\n",
              "      <td>Free</td>\n",
              "      <td>0</td>\n",
              "      <td>Everyone</td>\n",
              "      <td>Art &amp; Design;Creativity</td>\n",
              "      <td>June 20, 2018</td>\n",
              "      <td>1.1</td>\n",
              "      <td>4.4 and up</td>\n",
              "    </tr>\n",
              "    <tr>\n",
              "      <th>...</th>\n",
              "      <td>...</td>\n",
              "      <td>...</td>\n",
              "      <td>...</td>\n",
              "      <td>...</td>\n",
              "      <td>...</td>\n",
              "      <td>...</td>\n",
              "      <td>...</td>\n",
              "      <td>...</td>\n",
              "      <td>...</td>\n",
              "      <td>...</td>\n",
              "      <td>...</td>\n",
              "      <td>...</td>\n",
              "      <td>...</td>\n",
              "    </tr>\n",
              "    <tr>\n",
              "      <th>10834</th>\n",
              "      <td>FR Calculator</td>\n",
              "      <td>FAMILY</td>\n",
              "      <td>4.0</td>\n",
              "      <td>7</td>\n",
              "      <td>2.6M</td>\n",
              "      <td>500+</td>\n",
              "      <td>Free</td>\n",
              "      <td>0</td>\n",
              "      <td>Everyone</td>\n",
              "      <td>Education</td>\n",
              "      <td>June 18, 2017</td>\n",
              "      <td>1.0.0</td>\n",
              "      <td>4.1 and up</td>\n",
              "    </tr>\n",
              "    <tr>\n",
              "      <th>10836</th>\n",
              "      <td>Sya9a Maroc - FR</td>\n",
              "      <td>FAMILY</td>\n",
              "      <td>4.5</td>\n",
              "      <td>38</td>\n",
              "      <td>53M</td>\n",
              "      <td>5,000+</td>\n",
              "      <td>Free</td>\n",
              "      <td>0</td>\n",
              "      <td>Everyone</td>\n",
              "      <td>Education</td>\n",
              "      <td>July 25, 2017</td>\n",
              "      <td>1.48</td>\n",
              "      <td>4.1 and up</td>\n",
              "    </tr>\n",
              "    <tr>\n",
              "      <th>10837</th>\n",
              "      <td>Fr. Mike Schmitz Audio Teachings</td>\n",
              "      <td>FAMILY</td>\n",
              "      <td>5.0</td>\n",
              "      <td>4</td>\n",
              "      <td>3.6M</td>\n",
              "      <td>100+</td>\n",
              "      <td>Free</td>\n",
              "      <td>0</td>\n",
              "      <td>Everyone</td>\n",
              "      <td>Education</td>\n",
              "      <td>July 6, 2018</td>\n",
              "      <td>1.0</td>\n",
              "      <td>4.1 and up</td>\n",
              "    </tr>\n",
              "    <tr>\n",
              "      <th>10839</th>\n",
              "      <td>The SCP Foundation DB fr nn5n</td>\n",
              "      <td>BOOKS_AND_REFERENCE</td>\n",
              "      <td>4.5</td>\n",
              "      <td>114</td>\n",
              "      <td>Varies with device</td>\n",
              "      <td>1,000+</td>\n",
              "      <td>Free</td>\n",
              "      <td>0</td>\n",
              "      <td>Mature 17+</td>\n",
              "      <td>Books &amp; Reference</td>\n",
              "      <td>January 19, 2015</td>\n",
              "      <td>Varies with device</td>\n",
              "      <td>Varies with device</td>\n",
              "    </tr>\n",
              "    <tr>\n",
              "      <th>10840</th>\n",
              "      <td>iHoroscope - 2018 Daily Horoscope &amp; Astrology</td>\n",
              "      <td>LIFESTYLE</td>\n",
              "      <td>4.5</td>\n",
              "      <td>398307</td>\n",
              "      <td>19M</td>\n",
              "      <td>10,000,000+</td>\n",
              "      <td>Free</td>\n",
              "      <td>0</td>\n",
              "      <td>Everyone</td>\n",
              "      <td>Lifestyle</td>\n",
              "      <td>July 25, 2018</td>\n",
              "      <td>Varies with device</td>\n",
              "      <td>Varies with device</td>\n",
              "    </tr>\n",
              "  </tbody>\n",
              "</table>\n",
              "<p>8886 rows × 13 columns</p>\n",
              "</div>"
            ],
            "text/plain": [
              "                                                     App  ...         Android Ver\n",
              "0         Photo Editor & Candy Camera & Grid & ScrapBook  ...        4.0.3 and up\n",
              "1                                    Coloring book moana  ...        4.0.3 and up\n",
              "2      U Launcher Lite – FREE Live Cool Themes, Hide ...  ...        4.0.3 and up\n",
              "3                                  Sketch - Draw & Paint  ...          4.2 and up\n",
              "4                  Pixel Draw - Number Art Coloring Book  ...          4.4 and up\n",
              "...                                                  ...  ...                 ...\n",
              "10834                                      FR Calculator  ...          4.1 and up\n",
              "10836                                   Sya9a Maroc - FR  ...          4.1 and up\n",
              "10837                   Fr. Mike Schmitz Audio Teachings  ...          4.1 and up\n",
              "10839                      The SCP Foundation DB fr nn5n  ...  Varies with device\n",
              "10840      iHoroscope - 2018 Daily Horoscope & Astrology  ...  Varies with device\n",
              "\n",
              "[8886 rows x 13 columns]"
            ]
          },
          "metadata": {
            "tags": []
          },
          "execution_count": 7
        }
      ]
    },
    {
      "cell_type": "markdown",
      "metadata": {
        "id": "gJXuQGK3D0LQ",
        "colab_type": "text"
      },
      "source": [
        "\n",
        "#### Print the shape of the data read\n",
        "Display the size of the dataset read"
      ]
    },
    {
      "cell_type": "code",
      "metadata": {
        "id": "DrBtE0l4VkRZ",
        "colab_type": "code",
        "colab": {
          "base_uri": "https://localhost:8080/",
          "height": 34
        },
        "outputId": "33752237-99be-4cf2-e5bb-b13b62d1a76c"
      },
      "source": [
        "df.shape"
      ],
      "execution_count": null,
      "outputs": [
        {
          "output_type": "execute_result",
          "data": {
            "text/plain": [
              "(8886, 13)"
            ]
          },
          "metadata": {
            "tags": []
          },
          "execution_count": 8
        }
      ]
    },
    {
      "cell_type": "markdown",
      "metadata": {
        "id": "xl3aHuiRD0LT",
        "colab_type": "text"
      },
      "source": [
        ">  ####   After removing the rows with NULL values and the duplicated entries, there are 8886 apps left for analysis. \n",
        "\n",
        "\n",
        "> #### Let's analyze their ratings and performance.\n",
        "\n",
        "***"
      ]
    },
    {
      "cell_type": "markdown",
      "metadata": {
        "id": "o9znBL1LD0LU",
        "colab_type": "text"
      },
      "source": [
        "<a id='3.2'></a>\n",
        "### 3.2 Handling Data Types of each Feature\n",
        "\n",
        "#### The data types of each feature must be changed to a proper format that can be used for analysis."
      ]
    },
    {
      "cell_type": "markdown",
      "metadata": {
        "id": "pOuB2PaPD0LX",
        "colab_type": "text"
      },
      "source": [
        "####TODO: The feature *Reviews* must be of numerical type. (2 marks)     \n",
        "Let's change it."
      ]
    },
    {
      "cell_type": "code",
      "metadata": {
        "id": "u8_VvKokD0LY",
        "colab_type": "code",
        "colab": {
          "base_uri": "https://localhost:8080/",
          "height": 493
        },
        "outputId": "842db311-0f34-41db-e99e-1e2bcb019e92"
      },
      "source": [
        "#add code here\n",
        "print(df.dtypes)  # Displaying Data types of each feature.\n",
        "#add code: In df column Reviews change the type into int64\n",
        "df['Reviews'] = df['Reviews'].astype('int')\n",
        "print(df.dtypes) #column Reviews change the type into int64"
      ],
      "execution_count": null,
      "outputs": [
        {
          "output_type": "stream",
          "text": [
            "App                object\n",
            "Category           object\n",
            "Rating            float64\n",
            "Reviews            object\n",
            "Size               object\n",
            "Installs           object\n",
            "Type               object\n",
            "Price              object\n",
            "Content Rating     object\n",
            "Genres             object\n",
            "Last Updated       object\n",
            "Current Ver        object\n",
            "Android Ver        object\n",
            "dtype: object\n",
            "App                object\n",
            "Category           object\n",
            "Rating            float64\n",
            "Reviews             int64\n",
            "Size               object\n",
            "Installs           object\n",
            "Type               object\n",
            "Price              object\n",
            "Content Rating     object\n",
            "Genres             object\n",
            "Last Updated       object\n",
            "Current Ver        object\n",
            "Android Ver        object\n",
            "dtype: object\n"
          ],
          "name": "stdout"
        }
      ]
    },
    {
      "cell_type": "markdown",
      "metadata": {
        "id": "lnLnxAEVD0Lb",
        "colab_type": "text"
      },
      "source": [
        "####TODO: Changing the Feature : Installs (2 marks)\n",
        "Other Features like *Size*, *Installs*, *Price* and *Android Vers* also must be of numeric type.    \n",
        "The install values they are holding must be changed to a proper format so that we can use them for analysis and plots.    \n",
        "Example : '10,000+' to 10000"
      ]
    },
    {
      "cell_type": "code",
      "metadata": {
        "id": "5D7oDXpaD0Lc",
        "colab_type": "code",
        "colab": {
          "base_uri": "https://localhost:8080/",
          "height": 119
        },
        "outputId": "cd8a00b7-a0b9-436a-c926-7caa40588e3f"
      },
      "source": [
        "\n",
        "#Add code here\n",
        "newInstalls = []  #given a new list newInstalls\n",
        "#loop through the df.Install to do the change Example : '10,000+' to 10000 \n",
        "for row in df.Installs:\n",
        "  row = row.replace('+', '')#add code: remove the last char +\n",
        "  newRow = row.replace(',', '')#add code: use row content to remove , \n",
        "  newInstalls.append(float(newRow))#add code: convert newRow to float)\n",
        "\n",
        "df.Installs = newInstalls  #update the new content into df column Installs\n",
        "df.Installs.head()\n"
      ],
      "execution_count": null,
      "outputs": [
        {
          "output_type": "execute_result",
          "data": {
            "text/plain": [
              "0       10000.0\n",
              "1      500000.0\n",
              "2     5000000.0\n",
              "3    50000000.0\n",
              "4      100000.0\n",
              "Name: Installs, dtype: float64"
            ]
          },
          "metadata": {
            "tags": []
          },
          "execution_count": 10
        }
      ]
    },
    {
      "cell_type": "markdown",
      "metadata": {
        "id": "3qdBRbVqD0Le",
        "colab_type": "text"
      },
      "source": [
        "####TODO: Changing the feature : Size (2 marks)\n",
        "\n",
        "The column Size value is not usable for data analysis\n",
        "\n",
        "Change 15M to 15.0"
      ]
    },
    {
      "cell_type": "code",
      "metadata": {
        "id": "clai9cfJD0Lf",
        "colab_type": "code",
        "colab": {
          "base_uri": "https://localhost:8080/",
          "height": 119
        },
        "outputId": "be9cee47-7973-44bd-8258-0807a67f8767"
      },
      "source": [
        "\n",
        "#Add code here\n",
        "newSize = []\n",
        "for row in df.Size:\n",
        "    newrow = row.replace('M', '') #add code: remove last char M\n",
        "    try:\n",
        "        newSize.append(float(newrow)) #add code: convert the newrow into float\n",
        "    except:\n",
        "        newSize.append(0) #When it says - Size Varies.   \n",
        "df.Size = newSize #update the newSize into df Size column\n",
        "df.Size.head()"
      ],
      "execution_count": null,
      "outputs": [
        {
          "output_type": "execute_result",
          "data": {
            "text/plain": [
              "0    19.0\n",
              "1    14.0\n",
              "2     8.7\n",
              "3    25.0\n",
              "4     2.8\n",
              "Name: Size, dtype: float64"
            ]
          },
          "metadata": {
            "tags": []
          },
          "execution_count": 11
        }
      ]
    },
    {
      "cell_type": "markdown",
      "metadata": {
        "id": "wTPr3aiPD0Lh",
        "colab_type": "text"
      },
      "source": [
        "####TODO: Changing the feature : Price (2 marks)    \n",
        "Most value in the df Price column is 0 but some have   \n",
        "```\n",
        "$2.44\n",
        "```\n",
        "Hint: remove '$' and convert to float"
      ]
    },
    {
      "cell_type": "code",
      "metadata": {
        "id": "vlLq9wveD0Li",
        "colab_type": "code",
        "colab": {
          "base_uri": "https://localhost:8080/",
          "height": 119
        },
        "outputId": "40074e6a-0d2a-4d18-f28a-399b566ecd76"
      },
      "source": [
        "\n",
        "#add code\n",
        "newPrice = []\n",
        "for row in df.Price:\n",
        "    if row != 0 :#add code: to compare row not equal to 0:\n",
        "        #now this row content is likely eg. $2.44      \n",
        "        newrow = float(row.replace('$', ''))#add code: extract row content without '$' then convert to float\n",
        "    else:\n",
        "        newrow = 0       \n",
        "    newPrice.append(newrow)       \n",
        "df.Price = newPrice\n",
        "df.Price.head()"
      ],
      "execution_count": null,
      "outputs": [
        {
          "output_type": "execute_result",
          "data": {
            "text/plain": [
              "0    0.0\n",
              "1    0.0\n",
              "2    0.0\n",
              "3    0.0\n",
              "4    0.0\n",
              "Name: Price, dtype: float64"
            ]
          },
          "metadata": {
            "tags": []
          },
          "execution_count": 12
        }
      ]
    },
    {
      "cell_type": "markdown",
      "metadata": {
        "id": "N_rfL46BD0Ll",
        "colab_type": "text"
      },
      "source": [
        "####TODO: Changing the feature: Android Ver (2 marks)    \n",
        "df column Android Ver has data like \"4.0.3 and up\"    \n",
        "We are only interested on the major version not the minor version   \n",
        "Let's change \"4.0.3 and up\" to \"4.0\""
      ]
    },
    {
      "cell_type": "code",
      "metadata": {
        "id": "gFuyXyEKD0Lm",
        "colab_type": "code",
        "colab": {
          "base_uri": "https://localhost:8080/",
          "height": 221
        },
        "outputId": "df83a201-8899-4e48-e126-1b9bddeffb2b"
      },
      "source": [
        "#add code\n",
        "newVer = []\n",
        "for row in df['Android Ver']:\n",
        "  #print(row)\n",
        "    try:\n",
        "        newrow = float(row)#add code: get row content extract the major version and convert to float\n",
        "    except:\n",
        "        newrow = 0  # When the value is - Varies with device   \n",
        "    newVer.append(newrow)\n",
        "df['Android Ver'] =  newVer\n",
        "df['Android Ver'] # add code:total count for each Android Ver"
      ],
      "execution_count": null,
      "outputs": [
        {
          "output_type": "execute_result",
          "data": {
            "text/plain": [
              "0        0\n",
              "1        0\n",
              "2        0\n",
              "3        0\n",
              "4        0\n",
              "        ..\n",
              "10834    0\n",
              "10836    0\n",
              "10837    0\n",
              "10839    0\n",
              "10840    0\n",
              "Name: Android Ver, Length: 8886, dtype: int64"
            ]
          },
          "metadata": {
            "tags": []
          },
          "execution_count": 13
        }
      ]
    },
    {
      "cell_type": "code",
      "metadata": {
        "id": "_0W-JF0oKJ71",
        "colab_type": "code",
        "colab": {
          "base_uri": "https://localhost:8080/",
          "height": 776
        },
        "outputId": "327c0a20-6eca-4b6e-e703-b6da55531dc5"
      },
      "source": [
        "df  #check the result in df"
      ],
      "execution_count": null,
      "outputs": [
        {
          "output_type": "execute_result",
          "data": {
            "text/html": [
              "<div>\n",
              "<style scoped>\n",
              "    .dataframe tbody tr th:only-of-type {\n",
              "        vertical-align: middle;\n",
              "    }\n",
              "\n",
              "    .dataframe tbody tr th {\n",
              "        vertical-align: top;\n",
              "    }\n",
              "\n",
              "    .dataframe thead th {\n",
              "        text-align: right;\n",
              "    }\n",
              "</style>\n",
              "<table border=\"1\" class=\"dataframe\">\n",
              "  <thead>\n",
              "    <tr style=\"text-align: right;\">\n",
              "      <th></th>\n",
              "      <th>App</th>\n",
              "      <th>Category</th>\n",
              "      <th>Rating</th>\n",
              "      <th>Reviews</th>\n",
              "      <th>Size</th>\n",
              "      <th>Installs</th>\n",
              "      <th>Type</th>\n",
              "      <th>Price</th>\n",
              "      <th>Content Rating</th>\n",
              "      <th>Genres</th>\n",
              "      <th>Last Updated</th>\n",
              "      <th>Current Ver</th>\n",
              "      <th>Android Ver</th>\n",
              "    </tr>\n",
              "  </thead>\n",
              "  <tbody>\n",
              "    <tr>\n",
              "      <th>0</th>\n",
              "      <td>Photo Editor &amp; Candy Camera &amp; Grid &amp; ScrapBook</td>\n",
              "      <td>ART_AND_DESIGN</td>\n",
              "      <td>4.1</td>\n",
              "      <td>159</td>\n",
              "      <td>19.0</td>\n",
              "      <td>10000.0</td>\n",
              "      <td>Free</td>\n",
              "      <td>0.0</td>\n",
              "      <td>Everyone</td>\n",
              "      <td>Art &amp; Design</td>\n",
              "      <td>January 7, 2018</td>\n",
              "      <td>1.0.0</td>\n",
              "      <td>0</td>\n",
              "    </tr>\n",
              "    <tr>\n",
              "      <th>1</th>\n",
              "      <td>Coloring book moana</td>\n",
              "      <td>ART_AND_DESIGN</td>\n",
              "      <td>3.9</td>\n",
              "      <td>967</td>\n",
              "      <td>14.0</td>\n",
              "      <td>500000.0</td>\n",
              "      <td>Free</td>\n",
              "      <td>0.0</td>\n",
              "      <td>Everyone</td>\n",
              "      <td>Art &amp; Design;Pretend Play</td>\n",
              "      <td>January 15, 2018</td>\n",
              "      <td>2.0.0</td>\n",
              "      <td>0</td>\n",
              "    </tr>\n",
              "    <tr>\n",
              "      <th>2</th>\n",
              "      <td>U Launcher Lite – FREE Live Cool Themes, Hide ...</td>\n",
              "      <td>ART_AND_DESIGN</td>\n",
              "      <td>4.7</td>\n",
              "      <td>87510</td>\n",
              "      <td>8.7</td>\n",
              "      <td>5000000.0</td>\n",
              "      <td>Free</td>\n",
              "      <td>0.0</td>\n",
              "      <td>Everyone</td>\n",
              "      <td>Art &amp; Design</td>\n",
              "      <td>August 1, 2018</td>\n",
              "      <td>1.2.4</td>\n",
              "      <td>0</td>\n",
              "    </tr>\n",
              "    <tr>\n",
              "      <th>3</th>\n",
              "      <td>Sketch - Draw &amp; Paint</td>\n",
              "      <td>ART_AND_DESIGN</td>\n",
              "      <td>4.5</td>\n",
              "      <td>215644</td>\n",
              "      <td>25.0</td>\n",
              "      <td>50000000.0</td>\n",
              "      <td>Free</td>\n",
              "      <td>0.0</td>\n",
              "      <td>Teen</td>\n",
              "      <td>Art &amp; Design</td>\n",
              "      <td>June 8, 2018</td>\n",
              "      <td>Varies with device</td>\n",
              "      <td>0</td>\n",
              "    </tr>\n",
              "    <tr>\n",
              "      <th>4</th>\n",
              "      <td>Pixel Draw - Number Art Coloring Book</td>\n",
              "      <td>ART_AND_DESIGN</td>\n",
              "      <td>4.3</td>\n",
              "      <td>967</td>\n",
              "      <td>2.8</td>\n",
              "      <td>100000.0</td>\n",
              "      <td>Free</td>\n",
              "      <td>0.0</td>\n",
              "      <td>Everyone</td>\n",
              "      <td>Art &amp; Design;Creativity</td>\n",
              "      <td>June 20, 2018</td>\n",
              "      <td>1.1</td>\n",
              "      <td>0</td>\n",
              "    </tr>\n",
              "    <tr>\n",
              "      <th>...</th>\n",
              "      <td>...</td>\n",
              "      <td>...</td>\n",
              "      <td>...</td>\n",
              "      <td>...</td>\n",
              "      <td>...</td>\n",
              "      <td>...</td>\n",
              "      <td>...</td>\n",
              "      <td>...</td>\n",
              "      <td>...</td>\n",
              "      <td>...</td>\n",
              "      <td>...</td>\n",
              "      <td>...</td>\n",
              "      <td>...</td>\n",
              "    </tr>\n",
              "    <tr>\n",
              "      <th>10834</th>\n",
              "      <td>FR Calculator</td>\n",
              "      <td>FAMILY</td>\n",
              "      <td>4.0</td>\n",
              "      <td>7</td>\n",
              "      <td>2.6</td>\n",
              "      <td>500.0</td>\n",
              "      <td>Free</td>\n",
              "      <td>0.0</td>\n",
              "      <td>Everyone</td>\n",
              "      <td>Education</td>\n",
              "      <td>June 18, 2017</td>\n",
              "      <td>1.0.0</td>\n",
              "      <td>0</td>\n",
              "    </tr>\n",
              "    <tr>\n",
              "      <th>10836</th>\n",
              "      <td>Sya9a Maroc - FR</td>\n",
              "      <td>FAMILY</td>\n",
              "      <td>4.5</td>\n",
              "      <td>38</td>\n",
              "      <td>53.0</td>\n",
              "      <td>5000.0</td>\n",
              "      <td>Free</td>\n",
              "      <td>0.0</td>\n",
              "      <td>Everyone</td>\n",
              "      <td>Education</td>\n",
              "      <td>July 25, 2017</td>\n",
              "      <td>1.48</td>\n",
              "      <td>0</td>\n",
              "    </tr>\n",
              "    <tr>\n",
              "      <th>10837</th>\n",
              "      <td>Fr. Mike Schmitz Audio Teachings</td>\n",
              "      <td>FAMILY</td>\n",
              "      <td>5.0</td>\n",
              "      <td>4</td>\n",
              "      <td>3.6</td>\n",
              "      <td>100.0</td>\n",
              "      <td>Free</td>\n",
              "      <td>0.0</td>\n",
              "      <td>Everyone</td>\n",
              "      <td>Education</td>\n",
              "      <td>July 6, 2018</td>\n",
              "      <td>1.0</td>\n",
              "      <td>0</td>\n",
              "    </tr>\n",
              "    <tr>\n",
              "      <th>10839</th>\n",
              "      <td>The SCP Foundation DB fr nn5n</td>\n",
              "      <td>BOOKS_AND_REFERENCE</td>\n",
              "      <td>4.5</td>\n",
              "      <td>114</td>\n",
              "      <td>0.0</td>\n",
              "      <td>1000.0</td>\n",
              "      <td>Free</td>\n",
              "      <td>0.0</td>\n",
              "      <td>Mature 17+</td>\n",
              "      <td>Books &amp; Reference</td>\n",
              "      <td>January 19, 2015</td>\n",
              "      <td>Varies with device</td>\n",
              "      <td>0</td>\n",
              "    </tr>\n",
              "    <tr>\n",
              "      <th>10840</th>\n",
              "      <td>iHoroscope - 2018 Daily Horoscope &amp; Astrology</td>\n",
              "      <td>LIFESTYLE</td>\n",
              "      <td>4.5</td>\n",
              "      <td>398307</td>\n",
              "      <td>19.0</td>\n",
              "      <td>10000000.0</td>\n",
              "      <td>Free</td>\n",
              "      <td>0.0</td>\n",
              "      <td>Everyone</td>\n",
              "      <td>Lifestyle</td>\n",
              "      <td>July 25, 2018</td>\n",
              "      <td>Varies with device</td>\n",
              "      <td>0</td>\n",
              "    </tr>\n",
              "  </tbody>\n",
              "</table>\n",
              "<p>8886 rows × 13 columns</p>\n",
              "</div>"
            ],
            "text/plain": [
              "                                                     App  ... Android Ver\n",
              "0         Photo Editor & Candy Camera & Grid & ScrapBook  ...           0\n",
              "1                                    Coloring book moana  ...           0\n",
              "2      U Launcher Lite – FREE Live Cool Themes, Hide ...  ...           0\n",
              "3                                  Sketch - Draw & Paint  ...           0\n",
              "4                  Pixel Draw - Number Art Coloring Book  ...           0\n",
              "...                                                  ...  ...         ...\n",
              "10834                                      FR Calculator  ...           0\n",
              "10836                                   Sya9a Maroc - FR  ...           0\n",
              "10837                   Fr. Mike Schmitz Audio Teachings  ...           0\n",
              "10839                      The SCP Foundation DB fr nn5n  ...           0\n",
              "10840      iHoroscope - 2018 Daily Horoscope & Astrology  ...           0\n",
              "\n",
              "[8886 rows x 13 columns]"
            ]
          },
          "metadata": {
            "tags": []
          },
          "execution_count": 16
        }
      ]
    },
    {
      "cell_type": "markdown",
      "metadata": {
        "id": "_eaxlwziD0Lo",
        "colab_type": "text"
      },
      "source": [
        "<a id='4'></a>\n",
        "## 4. Analyzing Features :"
      ]
    },
    {
      "cell_type": "markdown",
      "metadata": {
        "id": "5OC8X9U2D0Lp",
        "colab_type": "text"
      },
      "source": [
        "### 4.1 Categories\n",
        "\n",
        "\n"
      ]
    },
    {
      "cell_type": "markdown",
      "metadata": {
        "id": "59q-9ScHjfw7",
        "colab_type": "text"
      },
      "source": [
        "####TODO: Find the Total count for each of the Category (2 marks) \n",
        "\n",
        "\n",
        "```\n",
        "FAMILY                 1717\n",
        "GAME                   1074\n",
        "TOOLS                   733\n",
        "PRODUCTIVITY            334\n",
        "FINANCE                 317\n",
        "```\n",
        "\n"
      ]
    },
    {
      "cell_type": "code",
      "metadata": {
        "id": "IdRCcujrD0Lq",
        "colab_type": "code",
        "colab": {
          "base_uri": "https://localhost:8080/",
          "height": 136
        },
        "outputId": "def73ce0-d6d0-465b-debf-931ac06e037a"
      },
      "source": [
        "\n",
        "#Add code\n",
        "df_category = df.groupby(\"Category\").count()\n",
        "df_category.loc[['FAMILY', 'GAME', 'TOOLS', 'PRODUCTIVITY', 'FINANCE'], 'index']\n",
        "\n",
        "#df.Category.count() #add code to get total count of each Category\n"
      ],
      "execution_count": null,
      "outputs": [
        {
          "output_type": "execute_result",
          "data": {
            "text/plain": [
              "Category\n",
              "FAMILY          1717\n",
              "GAME            1074\n",
              "TOOLS            733\n",
              "PRODUCTIVITY     334\n",
              "FINANCE          317\n",
              "Name: index, dtype: int64"
            ]
          },
          "metadata": {
            "tags": []
          },
          "execution_count": 32
        }
      ]
    },
    {
      "cell_type": "markdown",
      "metadata": {
        "id": "BEW_ZqJklaKv",
        "colab_type": "text"
      },
      "source": [
        "####TODO: Group using the column 'Type', 'Category' and aggregate Rating with the mean(3 marks)   \n",
        "\n",
        "\n",
        "\n",
        "```\n",
        "\t\t                          Rating\n",
        "                               mean\n",
        "Type    Category\t\n",
        "Free\t ART_AND_DESIGN\t       4.358621\n",
        "       AUTO_AND_VEHICLES\t    4.184722\n",
        "       BEAUTY\t                4.278571\n",
        "       BOOKS_AND_REFERENCE\t  4.350888\n",
        "       BUSINESS\t              4.103448\n",
        "...\t...\t...\n",
        "Paid\t   SPORTS\t              4.254545\n",
        "         TOOLS          \t    4.169841\n",
        "        TRAVEL_AND_LOCAL     \t4.100000\n",
        "        VIDEO_PLAYERS\t        4.100000\n",
        "        WEATHER\t              4.371429\n",
        "```\n",
        "\n",
        "\n"
      ]
    },
    {
      "cell_type": "code",
      "metadata": {
        "id": "cEgYGYGnlcWR",
        "colab_type": "code",
        "colab": {
          "base_uri": "https://localhost:8080/",
          "height": 238
        },
        "outputId": "9a3a9637-b09b-47c9-aa56-a9f8e8c2f08c"
      },
      "source": [
        "info= df.groupby([\"Type\",\"Category\"])['Rating'].mean() #add code: using df then Group using the column 'Type', 'Category'and aggregate Rating with the mean\n",
        "info"
      ],
      "execution_count": null,
      "outputs": [
        {
          "output_type": "execute_result",
          "data": {
            "text/plain": [
              "Type  Category           \n",
              "Free  ART_AND_DESIGN         4.358621\n",
              "      AUTO_AND_VEHICLES      4.184722\n",
              "      BEAUTY                 4.278571\n",
              "      BOOKS_AND_REFERENCE    4.350888\n",
              "      BUSINESS               4.103448\n",
              "                               ...   \n",
              "Paid  SPORTS                 4.254545\n",
              "      TOOLS                  4.169841\n",
              "      TRAVEL_AND_LOCAL       4.100000\n",
              "      VIDEO_PLAYERS          4.100000\n",
              "      WEATHER                4.371429\n",
              "Name: Rating, Length: 61, dtype: float64"
            ]
          },
          "metadata": {
            "tags": []
          },
          "execution_count": 23
        }
      ]
    },
    {
      "cell_type": "markdown",
      "metadata": {
        "id": "Zg7dkxkYD0MD",
        "colab_type": "text"
      },
      "source": [
        "### 4.2 Price \n",
        "##### TODO: Find the most costly App in the PlayStore. (1 mark)\n",
        "\n",
        "\n",
        "#####Hint: Find the row where the column price is max and store as a dataframe"
      ]
    },
    {
      "cell_type": "code",
      "metadata": {
        "id": "1RYO6PPVD0ME",
        "colab_type": "code",
        "colab": {
          "base_uri": "https://localhost:8080/",
          "height": 114
        },
        "outputId": "6292ab45-4c3e-4009-959c-0d1e2aa113fe"
      },
      "source": [
        "\n",
        "\n",
        "#Add code\n",
        "#add code: Find the row where the column price is max and store as a dataframe]\n",
        "df.reset_index(inplace = True)\n",
        "final = df.index[df['Price'] == df['Price'].max() ]\n",
        "most_costly_df = df.iloc[final]\n",
        "most_costly_df"
      ],
      "execution_count": null,
      "outputs": [
        {
          "output_type": "execute_result",
          "data": {
            "text/html": [
              "<div>\n",
              "<style scoped>\n",
              "    .dataframe tbody tr th:only-of-type {\n",
              "        vertical-align: middle;\n",
              "    }\n",
              "\n",
              "    .dataframe tbody tr th {\n",
              "        vertical-align: top;\n",
              "    }\n",
              "\n",
              "    .dataframe thead th {\n",
              "        text-align: right;\n",
              "    }\n",
              "</style>\n",
              "<table border=\"1\" class=\"dataframe\">\n",
              "  <thead>\n",
              "    <tr style=\"text-align: right;\">\n",
              "      <th></th>\n",
              "      <th>index</th>\n",
              "      <th>App</th>\n",
              "      <th>Category</th>\n",
              "      <th>Rating</th>\n",
              "      <th>Reviews</th>\n",
              "      <th>Size</th>\n",
              "      <th>Installs</th>\n",
              "      <th>Type</th>\n",
              "      <th>Price</th>\n",
              "      <th>Content Rating</th>\n",
              "      <th>Genres</th>\n",
              "      <th>Last Updated</th>\n",
              "      <th>Current Ver</th>\n",
              "      <th>Android Ver</th>\n",
              "    </tr>\n",
              "  </thead>\n",
              "  <tbody>\n",
              "    <tr>\n",
              "      <th>3747</th>\n",
              "      <td>4367</td>\n",
              "      <td>I'm Rich - Trump Edition</td>\n",
              "      <td>LIFESTYLE</td>\n",
              "      <td>3.6</td>\n",
              "      <td>275</td>\n",
              "      <td>7.3</td>\n",
              "      <td>10000.0</td>\n",
              "      <td>Paid</td>\n",
              "      <td>400.0</td>\n",
              "      <td>Everyone</td>\n",
              "      <td>Lifestyle</td>\n",
              "      <td>May 3, 2018</td>\n",
              "      <td>1.0.1</td>\n",
              "      <td>0</td>\n",
              "    </tr>\n",
              "  </tbody>\n",
              "</table>\n",
              "</div>"
            ],
            "text/plain": [
              "      index                       App  ... Current Ver  Android Ver\n",
              "3747   4367  I'm Rich - Trump Edition  ...       1.0.1            0\n",
              "\n",
              "[1 rows x 14 columns]"
            ]
          },
          "metadata": {
            "tags": []
          },
          "execution_count": 25
        }
      ]
    },
    {
      "cell_type": "markdown",
      "metadata": {
        "id": "6xCjCvwSD0MG",
        "colab_type": "text"
      },
      "source": [
        "> #### Insight : The most costly App in the Store is: *I'm Rich - Trump Edition* costing 400 Dollars!\n",
        "\n",
        "***"
      ]
    },
    {
      "cell_type": "markdown",
      "metadata": {
        "id": "E6HmcrImD0MR",
        "colab_type": "text"
      },
      "source": [
        "<a id='5'></a>\n",
        "## 5. Further Analysis\n"
      ]
    },
    {
      "cell_type": "markdown",
      "metadata": {
        "id": "6zeTAgDV53j6",
        "colab_type": "text"
      },
      "source": [
        "\n",
        "###TODO: Find all Apps with 5.0 ratings (2 marks)"
      ]
    },
    {
      "cell_type": "code",
      "metadata": {
        "id": "mPR3JLsRD0MR",
        "colab_type": "code",
        "colab": {
          "base_uri": "https://localhost:8080/",
          "height": 306
        },
        "outputId": "b0193194-d9b8-4fb7-95fe-09822aac5243"
      },
      "source": [
        "\n",
        "#add code here\n",
        "df_full = df[df.Rating == 5]\n",
        "df_full.head()"
      ],
      "execution_count": null,
      "outputs": [
        {
          "output_type": "execute_result",
          "data": {
            "text/html": [
              "<div>\n",
              "<style scoped>\n",
              "    .dataframe tbody tr th:only-of-type {\n",
              "        vertical-align: middle;\n",
              "    }\n",
              "\n",
              "    .dataframe tbody tr th {\n",
              "        vertical-align: top;\n",
              "    }\n",
              "\n",
              "    .dataframe thead th {\n",
              "        text-align: right;\n",
              "    }\n",
              "</style>\n",
              "<table border=\"1\" class=\"dataframe\">\n",
              "  <thead>\n",
              "    <tr style=\"text-align: right;\">\n",
              "      <th></th>\n",
              "      <th>index</th>\n",
              "      <th>App</th>\n",
              "      <th>Category</th>\n",
              "      <th>Rating</th>\n",
              "      <th>Reviews</th>\n",
              "      <th>Size</th>\n",
              "      <th>Installs</th>\n",
              "      <th>Type</th>\n",
              "      <th>Price</th>\n",
              "      <th>Content Rating</th>\n",
              "      <th>Genres</th>\n",
              "      <th>Last Updated</th>\n",
              "      <th>Current Ver</th>\n",
              "      <th>Android Ver</th>\n",
              "    </tr>\n",
              "  </thead>\n",
              "  <tbody>\n",
              "    <tr>\n",
              "      <th>283</th>\n",
              "      <td>329</td>\n",
              "      <td>Hojiboy Tojiboyev Life Hacks</td>\n",
              "      <td>COMICS</td>\n",
              "      <td>5.0</td>\n",
              "      <td>15</td>\n",
              "      <td>37.0</td>\n",
              "      <td>1000.0</td>\n",
              "      <td>Free</td>\n",
              "      <td>0.0</td>\n",
              "      <td>Everyone</td>\n",
              "      <td>Comics</td>\n",
              "      <td>June 26, 2018</td>\n",
              "      <td>2.0</td>\n",
              "      <td>0</td>\n",
              "    </tr>\n",
              "    <tr>\n",
              "      <th>529</th>\n",
              "      <td>612</td>\n",
              "      <td>American Girls Mobile Numbers</td>\n",
              "      <td>DATING</td>\n",
              "      <td>5.0</td>\n",
              "      <td>5</td>\n",
              "      <td>4.4</td>\n",
              "      <td>1000.0</td>\n",
              "      <td>Free</td>\n",
              "      <td>0.0</td>\n",
              "      <td>Mature 17+</td>\n",
              "      <td>Dating</td>\n",
              "      <td>July 17, 2018</td>\n",
              "      <td>3.0</td>\n",
              "      <td>0</td>\n",
              "    </tr>\n",
              "    <tr>\n",
              "      <th>531</th>\n",
              "      <td>615</td>\n",
              "      <td>Awake Dating</td>\n",
              "      <td>DATING</td>\n",
              "      <td>5.0</td>\n",
              "      <td>2</td>\n",
              "      <td>70.0</td>\n",
              "      <td>100.0</td>\n",
              "      <td>Free</td>\n",
              "      <td>0.0</td>\n",
              "      <td>Mature 17+</td>\n",
              "      <td>Dating</td>\n",
              "      <td>July 24, 2018</td>\n",
              "      <td>2.2.9</td>\n",
              "      <td>0</td>\n",
              "    </tr>\n",
              "    <tr>\n",
              "      <th>537</th>\n",
              "      <td>633</td>\n",
              "      <td>Spine- The dating app</td>\n",
              "      <td>DATING</td>\n",
              "      <td>5.0</td>\n",
              "      <td>5</td>\n",
              "      <td>9.3</td>\n",
              "      <td>500.0</td>\n",
              "      <td>Free</td>\n",
              "      <td>0.0</td>\n",
              "      <td>Teen</td>\n",
              "      <td>Dating</td>\n",
              "      <td>July 14, 2018</td>\n",
              "      <td>4.0</td>\n",
              "      <td>0</td>\n",
              "    </tr>\n",
              "    <tr>\n",
              "      <th>539</th>\n",
              "      <td>636</td>\n",
              "      <td>Girls Live Talk - Free Text and Video Chat</td>\n",
              "      <td>DATING</td>\n",
              "      <td>5.0</td>\n",
              "      <td>6</td>\n",
              "      <td>5.0</td>\n",
              "      <td>100.0</td>\n",
              "      <td>Free</td>\n",
              "      <td>0.0</td>\n",
              "      <td>Mature 17+</td>\n",
              "      <td>Dating</td>\n",
              "      <td>August 1, 2018</td>\n",
              "      <td>8.2</td>\n",
              "      <td>0</td>\n",
              "    </tr>\n",
              "  </tbody>\n",
              "</table>\n",
              "</div>"
            ],
            "text/plain": [
              "     index                                         App  ... Current Ver  Android Ver\n",
              "283    329                Hojiboy Tojiboyev Life Hacks  ...         2.0            0\n",
              "529    612               American Girls Mobile Numbers  ...         3.0            0\n",
              "531    615                                Awake Dating  ...       2.2.9            0\n",
              "537    633                       Spine- The dating app  ...         4.0            0\n",
              "539    636  Girls Live Talk - Free Text and Video Chat  ...         8.2            0\n",
              "\n",
              "[5 rows x 14 columns]"
            ]
          },
          "metadata": {
            "tags": []
          },
          "execution_count": 27
        }
      ]
    },
    {
      "cell_type": "markdown",
      "metadata": {
        "id": "lUuOEEKCD0Mb",
        "colab_type": "text"
      },
      "source": [
        "### TODO: Find skew of  column Reviews==5.0 Rating Apps(2 Marks)\n",
        "Use the df_full from above result"
      ]
    },
    {
      "cell_type": "code",
      "metadata": {
        "id": "7i2E7_BxD0Mc",
        "colab_type": "code",
        "colab": {
          "base_uri": "https://localhost:8080/",
          "height": 296
        },
        "outputId": "9105d1f4-92a9-4c59-8d5d-c100d8b8c7f0"
      },
      "source": [
        "sns.distplot(df_full.Reviews)"
      ],
      "execution_count": null,
      "outputs": [
        {
          "output_type": "execute_result",
          "data": {
            "text/plain": [
              "<matplotlib.axes._subplots.AxesSubplot at 0x7fbf4ab629b0>"
            ]
          },
          "metadata": {
            "tags": []
          },
          "execution_count": 28
        },
        {
          "output_type": "display_data",
          "data": {
            "image/png": "[encoded data removed]",
            "text/plain": [
              "<Figure size 432x288 with 1 Axes>"
            ]
          },
          "metadata": {
            "tags": [],
            "needs_background": "light"
          }
        }
      ]
    },
    {
      "cell_type": "markdown",
      "metadata": {
        "id": "0zIe67H4D0Me",
        "colab_type": "text"
      },
      "source": [
        "Find the skew value for the column review==5"
      ]
    },
    {
      "cell_type": "code",
      "metadata": {
        "id": "S8D1WWdUquB6",
        "colab_type": "code",
        "colab": {
          "base_uri": "https://localhost:8080/",
          "height": 68
        },
        "outputId": "e5492ea7-1971-4f11-9d04-942d113ff568"
      },
      "source": [
        "s_r = df_full.Reviews\n",
        "print(type(s_r))\n",
        "df_r = s_r.to_frame()\n",
        "skewVal = df_r.skew(axis = 0)\n",
        "skewVal"
      ],
      "execution_count": null,
      "outputs": [
        {
          "output_type": "stream",
          "text": [
            "<class 'pandas.core.series.Series'>\n"
          ],
          "name": "stdout"
        },
        {
          "output_type": "execute_result",
          "data": {
            "text/plain": [
              "Reviews    4.899472\n",
              "dtype: float64"
            ]
          },
          "metadata": {
            "tags": []
          },
          "execution_count": 29
        }
      ]
    },
    {
      "cell_type": "markdown",
      "metadata": {
        "id": "15fkZ61cdsQf",
        "colab_type": "text"
      },
      "source": [
        "###TODO: Category and Reviews (6 marks)  \n",
        "\n",
        "- List the unique Categories\n",
        "- Display the average review for each unique Category \n",
        "- Sort and display the results using descending review\n",
        "\n",
        "\n",
        "Result as follows:\n",
        "\n",
        "```\n",
        "               category        review\n",
        "20               SOCIAL  2.186789e+06\n",
        "6         COMMUNICATION  1.958544e+06\n",
        "17                 GAME  1.318002e+06\n",
        "30        VIDEO_PLAYERS  6.898731e+05\n",
        "22          PHOTOGRAPHY  6.720308e+05\n",
        "21             SHOPPING  4.699553e+05\n",
        "9         ENTERTAINMENT  4.285650e+05\n",
        "25                TOOLS  3.726878e+05\n",
        "27         PRODUCTIVITY  3.070486e+05\n",
        "24     TRAVEL_AND_LOCAL  2.710488e+05\n",
        "32  MAPS_AND_NAVIGATION  2.472505e+05\n",
        "26      PERSONALIZATION  2.441312e+05\n",
        "18               FAMILY  2.310824e+05\n",
        "23               SPORTS  2.283990e+05\n",
        "29              WEATHER  1.947293e+05\n",
        "8             EDUCATION  1.795715e+05\n",
        "31   NEWS_AND_MAGAZINES  1.787145e+05\n",
        "3   BOOKS_AND_REFERENCE  1.235752e+05\n",
        "13   HEALTH_AND_FITNESS  1.177293e+05\n",
        "12       FOOD_AND_DRINK  7.237033e+04\n",
        "5                COMICS  5.830940e+04\n",
        "11              FINANCE  5.362640e+04\n",
        "4              BUSINESS  4.576928e+04\n",
        "16            LIFESTYLE  4.203134e+04\n",
        "14       HOUSE_AND_HOME  4.109399e+04\n",
        "7                DATING  3.487525e+04\n",
        "0        ART_AND_DESIGN  2.810356e+04\n",
        "28            PARENTING  1.907218e+04\n",
        "1     AUTO_AND_VEHICLES  1.594014e+04\n",
        "15   LIBRARIES_AND_DEMO  1.583422e+04\n",
        "2                BEAUTY  9.407929e+03\n",
        "19              MEDICAL  4.623930e+03\n",
        "10               EVENTS  3.568667e+03\n",
        "```\n",
        "\n",
        "\n",
        "\n"
      ]
    },
    {
      "cell_type": "code",
      "metadata": {
        "id": "GYHl7qaMeJkx",
        "colab_type": "code",
        "colab": {
          "base_uri": "https://localhost:8080/",
          "height": 595
        },
        "outputId": "07e1d71d-7f07-4691-8b2c-dc072e8259dc"
      },
      "source": [
        "\n",
        "#add code\n",
        "cat_list = list(df['Category'].unique())#add code)\n",
        "cat_review = []\n",
        "#print(cat_list)\n",
        "\n",
        "for i in cat_list:\n",
        "    #extract row with that category in i\n",
        "    x = df[df.Category == i].Reviews #add code: ]\n",
        "    \n",
        "    #mean  = x.groupby('Category')['Reviews'].mean()\n",
        "    #print(\"This is category \", i)\n",
        "    if(len(x)!=0):\n",
        "        #add code:\n",
        "        review = x.mean()\n",
        "        #review = get averge of review in this category\n",
        "        #store into cat_review\n",
        "        cat_review.append(review)\n",
        "\n",
        "\n",
        "#print(cat_review)\n",
        "#sorting\n",
        "##construct a Dataframe to add into the category_list and category_review as the 2 columns\n",
        "data_cat_rev = pd.DataFrame({'Category': cat_list , 'review': cat_review})#add code: construct Dataframe\n",
        "#data_cat_rev #add code: sort base in reviews as the descending order \n",
        "print(data_cat_rev.sort_values('review',ascending=False))\n",
        "\n",
        "\n"
      ],
      "execution_count": null,
      "outputs": [
        {
          "output_type": "stream",
          "text": [
            "               Category        review\n",
            "20               SOCIAL  2.186789e+06\n",
            "6         COMMUNICATION  1.958544e+06\n",
            "17                 GAME  1.318002e+06\n",
            "30        VIDEO_PLAYERS  6.898731e+05\n",
            "22          PHOTOGRAPHY  6.720308e+05\n",
            "21             SHOPPING  4.699553e+05\n",
            "9         ENTERTAINMENT  4.285650e+05\n",
            "25                TOOLS  3.726878e+05\n",
            "27         PRODUCTIVITY  3.070486e+05\n",
            "24     TRAVEL_AND_LOCAL  2.710488e+05\n",
            "32  MAPS_AND_NAVIGATION  2.472505e+05\n",
            "26      PERSONALIZATION  2.441312e+05\n",
            "18               FAMILY  2.310824e+05\n",
            "23               SPORTS  2.283990e+05\n",
            "29              WEATHER  1.947293e+05\n",
            "8             EDUCATION  1.795715e+05\n",
            "31   NEWS_AND_MAGAZINES  1.787145e+05\n",
            "3   BOOKS_AND_REFERENCE  1.235752e+05\n",
            "13   HEALTH_AND_FITNESS  1.177293e+05\n",
            "12       FOOD_AND_DRINK  7.237033e+04\n",
            "5                COMICS  5.830940e+04\n",
            "11              FINANCE  5.362640e+04\n",
            "4              BUSINESS  4.576928e+04\n",
            "16            LIFESTYLE  4.203134e+04\n",
            "14       HOUSE_AND_HOME  4.109399e+04\n",
            "7                DATING  3.487525e+04\n",
            "0        ART_AND_DESIGN  2.810356e+04\n",
            "28            PARENTING  1.907218e+04\n",
            "1     AUTO_AND_VEHICLES  1.594014e+04\n",
            "15   LIBRARIES_AND_DEMO  1.583422e+04\n",
            "2                BEAUTY  9.407929e+03\n",
            "19              MEDICAL  4.623930e+03\n",
            "10               EVENTS  3.568667e+03\n"
          ],
          "name": "stdout"
        }
      ]
    },
    {
      "cell_type": "code",
      "metadata": {
        "id": "RPof-x6ydXjj",
        "colab_type": "code",
        "colab": {}
      },
      "source": [
        ""
      ],
      "execution_count": null,
      "outputs": []
    }
  ]
}